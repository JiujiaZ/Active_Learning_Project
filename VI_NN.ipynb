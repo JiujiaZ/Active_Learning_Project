{
  "nbformat": 4,
  "nbformat_minor": 0,
  "metadata": {
    "kernelspec": {
      "display_name": "Python 3",
      "language": "python",
      "name": "python3"
    },
    "language_info": {
      "codemirror_mode": {
        "name": "ipython",
        "version": 3
      },
      "file_extension": ".py",
      "mimetype": "text/x-python",
      "name": "python",
      "nbconvert_exporter": "python",
      "pygments_lexer": "ipython3",
      "version": "3.8.5"
    },
    "colab": {
      "name": "VI_NN.ipynb",
      "provenance": [],
      "collapsed_sections": []
    },
    "accelerator": "GPU"
  },
  "cells": [
    {
      "cell_type": "code",
      "metadata": {
        "id": "pj8JwyyFdQvo"
      },
      "source": [
        "import numpy as np\n",
        "import torch\n",
        "from torch import nn, distributions\n",
        "import torch.nn.functional as F\n",
        "from torch.utils.data import DataLoader\n",
        "from torchvision.transforms import ToTensor\n",
        "from torchvision import datasets\n",
        "import matplotlib.pyplot as plt\n",
        "from dataclasses import dataclass"
      ],
      "execution_count": 1,
      "outputs": []
    },
    {
      "cell_type": "code",
      "metadata": {
        "id": "WvJsuwgRdQvr"
      },
      "source": [
        "mnist_train = datasets.MNIST(\"../data\", train=True, download=True, transform=ToTensor())\n",
        "mnist_test  = datasets.MNIST(\"../data\", train=False,download=True, transform=ToTensor())\n",
        "traindataloader = DataLoader(mnist_train, shuffle=True, batch_size=60000)\n",
        "testdataloader  = DataLoader(mnist_test , shuffle=True, batch_size=10000)\n",
        "X_train, y_train = next(iter(traindataloader))\n",
        "X_test , y_test  = next(iter(testdataloader))\n",
        "\n",
        "X_train = X_train.reshape(60000, -1)\n",
        "X_test = X_test.reshape(10000, -1)\n",
        "\n",
        "device = \"cuda\" if torch.cuda.is_available() else \"cpu\""
      ],
      "execution_count": 2,
      "outputs": []
    },
    {
      "cell_type": "code",
      "metadata": {
        "id": "AJDDsAzIWpfk"
      },
      "source": [
        "# sepeate train data into (1) initial, (2) pool\n",
        "initial_idx = np.array([],dtype=np.int)\n",
        "for i in range(10):\n",
        "    idx = np.random.choice(np.where(y_train==i)[0], size=2, replace=False)\n",
        "    initial_idx = np.concatenate((initial_idx, idx))\n",
        "\n",
        "X_initial = X_train[initial_idx]\n",
        "y_initial = y_train[initial_idx]\n",
        "\n",
        "X_pool = np.delete(X_train, initial_idx, axis=0)\n",
        "y_pool = np.delete(y_train, initial_idx, axis=0)"
      ],
      "execution_count": 3,
      "outputs": []
    },
    {
      "cell_type": "code",
      "metadata": {
        "id": "ueGHFnNHW8lH"
      },
      "source": [
        "# BALD Acquisition function\n",
        "def bald(model_A, model_S1, model_S2, X, n_instances, T = 100):\n",
        "  \n",
        "    random_subset = np.random.choice(range(len(X)), size=len(X), replace=False)\n",
        "    with torch.no_grad():\n",
        "        x = X[random_subset].to(device)\n",
        "        outputs = np.stack([torch.exp(model_A(x)).detach().cpu().numpy() for t in range(T)])\n",
        "\n",
        "    pc = outputs.mean(axis=0)\n",
        "    H   = (-pc*np.log(pc + 1e-10)).sum(axis=-1)\n",
        "    E_H = - np.mean(np.sum(outputs * np.log(outputs + 1e-10), axis=-1), axis=0) \n",
        "    acquisition = H - E_H\n",
        "    idx = (-acquisition).argsort()[:n_instances]\n",
        "    query_idx = random_subset[idx]\n",
        "\n",
        "    score_A = acquisition[query_idx]\n",
        "    \n",
        "    #---------------- score for successors:\n",
        "    with torch.no_grad():\n",
        "        output_S1 = np.stack([torch.exp(model_S1(X[query_idx].to(device))).detach().cpu().numpy() for t in range(T)])\n",
        "        output_S2 = np.stack([torch.exp(model_S2(X[query_idx].to(device))).detach().cpu().numpy() for t in range(T)])\n",
        "\n",
        "    pc = output_S1.mean(axis=0)\n",
        "    H   = (-pc*np.log(pc + 1e-10)).sum(axis=-1)\n",
        "    E_H = - np.mean(np.sum(output_S1 * np.log(output_S1 + 1e-10), axis=-1), axis=0) \n",
        "    score_S1 = H - E_H\n",
        "\n",
        "    pc = output_S2.mean(axis=0)\n",
        "    H   = (-pc*np.log(pc + 1e-10)).sum(axis=-1)\n",
        "    E_H = - np.mean(np.sum(output_S2 * np.log(output_S2 + 1e-10), axis=-1), axis=0) \n",
        "    score_S2 = H - E_H\n",
        "\n",
        "    return (query_idx, score_A, score_S1, score_S2) "
      ],
      "execution_count": 4,
      "outputs": []
    },
    {
      "cell_type": "code",
      "metadata": {
        "id": "rgnC6nsEamBZ"
      },
      "source": [
        "def active_learning_procedure(X_test,\n",
        "                              y_test,\n",
        "                              X_pool,\n",
        "                              y_pool,\n",
        "                              X_initial,\n",
        "                              y_initial,\n",
        "                              n_queries=30, # \n",
        "                              n_instances=1000):\n",
        "\n",
        "\n",
        "    x_train_sample = X_initial\n",
        "    y_train_sample = y_initial\n",
        "\n",
        "    train_loader = DataLoader(list(zip(x_train_sample,  y_train_sample)), \n",
        "                          shuffle=False, batch_size = len(y_train_sample))\n",
        "    test_loader = DataLoader(list(zip(X_test,  y_test)), \n",
        "                          shuffle=False, batch_size = 10000)\n",
        "    #----- Model A --------------------------\n",
        "    A = Model1(784, 10, n_batches=1).to(device)\n",
        "    optim0 = torch.optim.Adam(A.parameters(), lr=0.02)\n",
        "    _, train_acc, _, test_acc = train(A, optim0, 150, train_loader, test_loader, verbose = False)\n",
        "    acquisition_hist  = [test_acc[-1]]\n",
        "\n",
        "\n",
        "    #----- Model S --------------------------\n",
        "    S1 = Model2(784, 392, 10, n_batches=1).to(device)\n",
        "    optim1 = torch.optim.Adam(S1.parameters(), lr=0.015)\n",
        "    _, train_acc, _, test_acc = train(S1, optim1, 250, train_loader, test_loader, verbose = False)\n",
        "    successor1_hist = [test_acc[-1]]\n",
        "\n",
        "    S2 = Model3(784, [392, 196], 10, n_batches=1).to(device)\n",
        "    optim2 = torch.optim.Adam(S2.parameters(), lr=0.013)\n",
        "    _, train_acc, _, test_acc = train(S2, optim2, 550, train_loader, test_loader, verbose = False)\n",
        "    successor2_hist = [test_acc[-1]]\n",
        "\n",
        "    scores = list()\n",
        "\n",
        "    for index in range(n_queries):\n",
        "        # for incomplete sampling:\n",
        "        #query_idx = np.concatenate([bald(A, X_pool) for n in range(n_instances)])\n",
        "\n",
        "        # for complete set BALD:\n",
        "        query_idx, score_A, score_S1, score_S2 = bald(A, S1, S2, X_pool, n_instances)\n",
        "        scores.append(np.vstack((score_A, score_S1, score_S2)))\n",
        "\n",
        "        # for iid sampling\n",
        "        #query_idx = np.random.randint(0, len(y_pool), n_instances)\n",
        "\n",
        "        x_train_sample = torch.vstack((x_train_sample, X_pool[query_idx]))\n",
        "        y_train_sample = torch.cat((y_train_sample,y_pool[query_idx]))\n",
        "\n",
        "        train_loader = DataLoader(list(zip(x_train_sample,  y_train_sample)), \n",
        "                          shuffle=False, batch_size = len(y_train_sample))\n",
        "        \n",
        "        # model A:\n",
        "        A = Model1(784, 10, n_batches=1).to(device)\n",
        "        optim0 = torch.optim.Adam(A.parameters(), lr=0.02)\n",
        "        _, train_acc, _, test_acca = train(A, optim0, 150, train_loader, test_loader, verbose = False)\n",
        "        acquisition_hist.append(test_acca[-1])\n",
        "\n",
        "        # model S:\n",
        "        S1 = Model2(784, 392, 10, n_batches=1).to(device)\n",
        "        optim1 = torch.optim.Adam(S1.parameters(), lr=0.015)\n",
        "        _, train_acc, _, test_acc1 = train(S1, optim1, 250, train_loader, test_loader, verbose = False)\n",
        "        successor1_hist.append(test_acc1[-1])\n",
        "\n",
        "        S2 = Model3(784, [392, 196], 10, n_batches=1).to(device)\n",
        "        optim2 = torch.optim.Adam(S2.parameters(), lr=0.013)\n",
        "        _, train_acc, _, test_acc2  = train(S2, optim2, 550, train_loader, test_loader, verbose = False)\n",
        "        successor2_hist.append(test_acc2[-1])\n",
        "\n",
        "        \n",
        "        # delete queried data from pool:\n",
        "        X_pool = np.delete(X_pool, query_idx, axis=0)\n",
        "        y_pool = np.delete(y_pool, query_idx, axis=0)\n",
        "\n",
        "        print('Query {n}: {acc:0.4f}(Model A)    |     {acc_s1:0.4f}(Model S1) - {acc_s2:0.4f}(Model S2) '.format(n=index + 1, acc=test_acca[-1], acc_s1 = test_acc1[-1], acc_s2 = test_acc2[-1]))     \n",
        "        \n",
        "    return(acquisition_hist, successor1_hist, successor2_hist, scores)"
      ],
      "execution_count": 14,
      "outputs": []
    },
    {
      "cell_type": "code",
      "metadata": {
        "id": "P01kRIEGdQvs"
      },
      "source": [
        "class LinearVariational(nn.Module):\n",
        "    def __init__(self, in_features, out_features, loss_accumulator, n_batches, bias=True):\n",
        "        super().__init__()\n",
        "        self.in_features = in_features\n",
        "        self.out_features = out_features\n",
        "        self.include_bias = bias        \n",
        "        self.loss_accumulator = loss_accumulator\n",
        "        self.n_batches = n_batches\n",
        "        \n",
        "        if getattr(loss_accumulator, 'accumulated_kl_div', None) is None:\n",
        "            loss_accumulator.accumulated_kl_div = 0\n",
        "\n",
        "        self.w_mu = nn.Parameter(\n",
        "            torch.FloatTensor(in_features, out_features).normal_(mean=0, std=0.001)\n",
        "        )\n",
        "        # proxy for variance\n",
        "        # log(1 + exp(ρ))◦ eps\n",
        "        self.w_p = nn.Parameter(\n",
        "            torch.FloatTensor(in_features, out_features).normal_(mean=-2.5, std=0.001)\n",
        "        )\n",
        "        if self.include_bias:\n",
        "            self.b_mu = nn.Parameter(\n",
        "                torch.zeros(out_features)\n",
        "            )\n",
        "            self.b_p = nn.Parameter(\n",
        "                torch.zeros(out_features)\n",
        "            )\n",
        "        \n",
        "    def reparameterize(self, mu, p):\n",
        "        sigma = torch.log(1 + torch.exp(p)) \n",
        "        eps = torch.randn_like(sigma)\n",
        "        return mu + (eps * sigma)\n",
        "    \n",
        "    def kl_divergence(self, z, mu_theta, p_theta, prior_sd=1):\n",
        "        log_prior = distributions.Normal(0, prior_sd).log_prob(z) \n",
        "        log_p_q = distributions.Normal(mu_theta, torch.log(1 + torch.exp(p_theta))).log_prob(z) \n",
        "        return (log_p_q - log_prior).mean() / self.n_batches\n",
        "\n",
        "    def forward(self, x):\n",
        "        w = self.reparameterize(self.w_mu, self.w_p)\n",
        "        \n",
        "        if self.include_bias:\n",
        "            b = self.reparameterize(self.b_mu, self.b_p)\n",
        "        else:\n",
        "            b = 0\n",
        "            \n",
        "        z = x @ w + b\n",
        "        \n",
        "        self.loss_accumulator.accumulated_kl_div += self.kl_divergence(w, \n",
        "                                                             self.w_mu,\n",
        "                                                             self.w_p, \n",
        "                                                             )\n",
        "        if self.include_bias:\n",
        "            self.loss_accumulator.accumulated_kl_div += self.kl_divergence(b, \n",
        "                                                                 self.b_mu, \n",
        "                                                                 self.b_p,\n",
        "                                                                 )\n",
        "        return z\n",
        "\n",
        "\n",
        "@dataclass\n",
        "class KL:\n",
        "    accumulated_kl_div = 0\n",
        "\n",
        "def det_loss(y, y_pred, model):\n",
        "    batch_size = y.shape[0]\n",
        "    reconstruction_error = F.nll_loss(y_pred, y,reduction=\"mean\")\n",
        "    kl = model.accumulated_kl_div\n",
        "    model.reset_kl_div()\n",
        "    return reconstruction_error + kl\n",
        "\n"
      ],
      "execution_count": 6,
      "outputs": []
    },
    {
      "cell_type": "code",
      "metadata": {
        "id": "qf0y3IYxtkIk"
      },
      "source": [
        "class Model1(nn.Module):\n",
        "    def __init__(self, in_size, out_size, n_batches):\n",
        "        super().__init__()\n",
        "        self.kl_loss = KL\n",
        "        \n",
        "        self.layers = nn.Sequential(\n",
        "            LinearVariational(in_size, out_size, self.kl_loss, n_batches),\n",
        "            nn.LogSoftmax(dim = 1)\n",
        "        )\n",
        "    \n",
        "    @property\n",
        "    def accumulated_kl_div(self):\n",
        "        return self.kl_loss.accumulated_kl_div\n",
        "    \n",
        "    def reset_kl_div(self):\n",
        "        self.kl_loss.accumulated_kl_div = 0\n",
        "            \n",
        "    def forward(self, x):\n",
        "       # x = x.view(-1, 784)\n",
        "        return self.layers(x)\n",
        "\n",
        "class Model2(nn.Module):\n",
        "    def __init__(self, in_size, hidden_size, out_size, n_batches):\n",
        "        super().__init__()\n",
        "        self.kl_loss = KL\n",
        "        \n",
        "        self.layers = nn.Sequential(\n",
        "            LinearVariational(in_size, hidden_size, self.kl_loss, n_batches),\n",
        "            nn.ReLU(),\n",
        "            LinearVariational(hidden_size, out_size, self.kl_loss, n_batches),\n",
        "            nn.LogSoftmax(dim = 1)\n",
        "        )\n",
        "    \n",
        "    @property\n",
        "    def accumulated_kl_div(self):\n",
        "        return self.kl_loss.accumulated_kl_div\n",
        "    \n",
        "    def reset_kl_div(self):\n",
        "        self.kl_loss.accumulated_kl_div = 0\n",
        "            \n",
        "    def forward(self, x):\n",
        "       # x = x.view(-1, 784)\n",
        "        return self.layers(x)\n",
        "\n",
        "class Model3(nn.Module):\n",
        "    def __init__(self, in_size, hidden_size, out_size, n_batches):\n",
        "        super().__init__()\n",
        "        self.kl_loss = KL\n",
        "        \n",
        "        self.layers = nn.Sequential(\n",
        "            LinearVariational(in_size, hidden_size[0], self.kl_loss, n_batches),\n",
        "            nn.ReLU(),\n",
        "            LinearVariational(hidden_size[0], hidden_size[1], self.kl_loss, n_batches),\n",
        "            nn.ReLU(),\n",
        "            LinearVariational(hidden_size[1], out_size, self.kl_loss, n_batches),\n",
        "            nn.LogSoftmax(dim = 1)\n",
        "        )\n",
        "    \n",
        "    @property\n",
        "    def accumulated_kl_div(self):\n",
        "        return self.kl_loss.accumulated_kl_div\n",
        "    \n",
        "    def reset_kl_div(self):\n",
        "        self.kl_loss.accumulated_kl_div = 0\n",
        "            \n",
        "    def forward(self, x):\n",
        "       # x = x.view(-1, 784)\n",
        "        return self.layers(x)"
      ],
      "execution_count": 7,
      "outputs": []
    },
    {
      "cell_type": "code",
      "metadata": {
        "id": "W_FbZCJ0Bd-E"
      },
      "source": [
        "# Train\n",
        "def train(model, optimizer, num_epoch, train_loader, valid_loader, verbose = False):\n",
        "  train_ls = list()\n",
        "  train_acc = list()\n",
        "  valid_ls = list()\n",
        "  valid_acc = list()\n",
        "\n",
        "  # early_ls = list()\n",
        "\n",
        "  for epoch in range(num_epoch):\n",
        "      ls = 0\n",
        "      num_correct = 0\n",
        "      data_num = 0\n",
        "\n",
        "      model.train()\n",
        "      for bs_num, (x, y) in enumerate(train_loader):\n",
        "\n",
        "          x = x.to(device)\n",
        "          y = y.to(device)\n",
        "          \n",
        "          # forward:\n",
        "          y_pred = model(x)\n",
        "          loss = det_loss(y, y_pred, m)\n",
        "          ls += loss.item()\n",
        "          \n",
        "          # backward:\n",
        "          optimizer.zero_grad() # remove grad from forward prop\n",
        "          loss.backward()\n",
        "          \n",
        "          # update gradient:\n",
        "          optimizer.step()\n",
        "          \n",
        "          # accuracy:\n",
        "          _, pred = torch.max(y_pred,1)\n",
        "          num_correct += (pred == y).sum().item()\n",
        "\n",
        "          data_num += len(y)\n",
        "\n",
        "      acc = num_correct/data_num\n",
        "      val_ls, val_acc = eval_acc(model, valid_loader)\n",
        "      if verbose:\n",
        "        print(epoch+1)\n",
        "        print(f'\\tLoss: {ls:.4f}(train)\\t|\\tAcc: {acc * 100:.1f}%(train)')\n",
        "        print(f'\\tLoss: {val_ls:.4f}(valid)\\t|\\tAcc: {val_acc * 100:.1f}%(valid)')\n",
        "      train_ls.append(ls)\n",
        "      train_acc.append(acc)\n",
        "      valid_ls.append(val_ls)\n",
        "      valid_acc.append(val_acc)\n",
        "\n",
        "      # access early stopping:\n",
        "      #if (epoch <= (patient+1)):\n",
        "      #  early_ls.append(val_ls)\n",
        "      #else:\n",
        "      #  early_ls.pop(0)\n",
        "      #  early_ls.append(val_ls)\n",
        "      #  cum_diff = [x - early_ls[i - 1] for i, x in enumerate(early_ls)][1:]\n",
        "      #  ear_stop = all(i >= 0 for i in cum_diff)\n",
        "      #  if (ear_stop):\n",
        "      #    if (verbose):\n",
        "      #      print('Early stopping: consecutive {} epochs without improvement.'.format(patient))\n",
        "      #      break\n",
        "\n",
        "  return(train_ls, train_acc, valid_ls, valid_acc)\n",
        "\n",
        "\n",
        "def eval_acc(model, loader):\n",
        "  num_correct = 0\n",
        "  ls = 0\n",
        "  data_num = 0\n",
        "  all_pred = list()\n",
        "  label = list()\n",
        "\n",
        "  model.eval()\n",
        "  with torch.no_grad():\n",
        "    for x, y in loader:\n",
        "      x = x.to(device)\n",
        "      y = y.to(device)\n",
        "\n",
        "      y_pred = model(x)\n",
        "      loss = det_loss(y, y_pred, m)\n",
        "      ls += loss.item()\n",
        "\n",
        "      _, pred = torch.max(y_pred,1)\n",
        "      num_correct += (pred == y).sum().item()\n",
        "      data_num += len(y)\n",
        "\n",
        "    model.train()\n",
        "    return(ls, num_correct/data_num)\n",
        "\n"
      ],
      "execution_count": 8,
      "outputs": []
    },
    {
      "cell_type": "code",
      "metadata": {
        "id": "7oHFz6dSkRUW"
      },
      "source": [
        "train_loader = DataLoader(list(zip(X_train,  y_train)), \n",
        "                      shuffle=False, batch_size = 60000)\n",
        "test_loader = DataLoader(list(zip(X_test,  y_test)), \n",
        "                      shuffle=False, batch_size = 10000)"
      ],
      "execution_count": 9,
      "outputs": []
    },
    {
      "cell_type": "code",
      "metadata": {
        "id": "NiD0UIk2j4RG"
      },
      "source": [
        "m = Model3(784, [392, 196], 10, n_batches=1).to(device)\n",
        "optim = torch.optim.Adam(m.parameters(), lr=0.013)\n",
        "train_ls, train_acc, valid_ls, valid_acc = train(m, optim, 550, train_loader, test_loader, verbose = True)"
      ],
      "execution_count": null,
      "outputs": []
    },
    {
      "cell_type": "code",
      "metadata": {
        "colab": {
          "base_uri": "https://localhost:8080/",
          "height": 314
        },
        "id": "W_LZCCB3dQvw",
        "outputId": "d0549bc7-8e5c-4994-b0db-275dac8d256f"
      },
      "source": [
        "fig, axs = plt.subplots(1, 2, tight_layout=True, figsize = (20,4))\n",
        "\n",
        "epoch = 549\n",
        "axs[0].plot(range(epoch+1), train_ls, label = 'train_ls')\n",
        "axs[0].plot(range(epoch+1), valid_ls, label = 'valid_ls')\n",
        "axs[0].legend()\n",
        "axs[1].plot(range(epoch+1), train_acc, label = 'train_acc')\n",
        "axs[1].plot(range(epoch+1), valid_acc, label = 'valid_acc')\n",
        "axs[1].legend()\n"
      ],
      "execution_count": 12,
      "outputs": [
        {
          "output_type": "execute_result",
          "data": {
            "text/plain": [
              "<matplotlib.legend.Legend at 0x7f7aeb3d3a10>"
            ]
          },
          "metadata": {
            "tags": []
          },
          "execution_count": 12
        },
        {
          "output_type": "display_data",
          "data": {
            "image/png": "[encoded data removed]",
            "text/plain": [
              "<Figure size 1440x288 with 2 Axes>"
            ]
          },
          "metadata": {
            "tags": [],
            "needs_background": "light"
          }
        }
      ]
    },
    {
      "cell_type": "code",
      "metadata": {
        "id": "oPJ3FnHejjLX"
      },
      "source": [
        "query_idx, score_A, score_S1, score_S2 = bald(m, m, m, X_pool, 1000, T = 100)"
      ],
      "execution_count": 11,
      "outputs": []
    },
    {
      "cell_type": "code",
      "metadata": {
        "id": "ICB6hYAUou4x",
        "colab": {
          "base_uri": "https://localhost:8080/"
        },
        "outputId": "bef85d8c-6d0e-4019-b3bb-9b8117f58741"
      },
      "source": [
        "np.vstack((score_A, score_S1, score_S2)).shape"
      ],
      "execution_count": 16,
      "outputs": [
        {
          "output_type": "execute_result",
          "data": {
            "text/plain": [
              "(3, 1000)"
            ]
          },
          "metadata": {
            "tags": []
          },
          "execution_count": 16
        }
      ]
    },
    {
      "cell_type": "code",
      "metadata": {
        "colab": {
          "base_uri": "https://localhost:8080/"
        },
        "id": "8gLgMwpuoKlZ",
        "outputId": "126e8438-392d-4054-9f40-c6e4f7b9a482"
      },
      "source": [
        "with torch.no_grad():\n",
        "    x = X_test[random_subset].to(device)\n",
        "\n",
        "    y_pred = m(x)\n",
        "   \n",
        "        outputs = np.stack([torch.exp(m(x)).detach().cpu().numpy() for t in range(T)])"
      ],
      "execution_count": null,
      "outputs": [
        {
          "output_type": "execute_result",
          "data": {
            "text/plain": [
              "array([707])"
            ]
          },
          "metadata": {
            "tags": []
          },
          "execution_count": 21
        }
      ]
    },
    {
      "cell_type": "code",
      "metadata": {
        "colab": {
          "base_uri": "https://localhost:8080/"
        },
        "id": "1SBTIoSxoYZN",
        "outputId": "ce350ec9-3310-4038-a7d7-26f3357be1d7"
      },
      "source": [
        "x = X_test[random_subset].to(device)\n",
        "m(x)"
      ],
      "execution_count": null,
      "outputs": [
        {
          "output_type": "execute_result",
          "data": {
            "text/plain": [
              "tensor([[-12.8073, -20.3136, -10.1450, -12.4391,  -9.1797, -16.8512, -13.8193,\n",
              "          -0.5437,  -8.1444,  -0.8699],\n",
              "        [ -3.7020, -22.7614, -20.3608, -10.2424,  -2.1479,  -7.2331, -16.8376,\n",
              "          -0.1757, -13.8170,  -3.9654]], device='cuda:0',\n",
              "       grad_fn=<LogSoftmaxBackward>)"
            ]
          },
          "metadata": {
            "tags": []
          },
          "execution_count": 32
        }
      ]
    },
    {
      "cell_type": "code",
      "metadata": {
        "colab": {
          "base_uri": "https://localhost:8080/"
        },
        "id": "gTcFxM9PpF0y",
        "outputId": "e2c4aeb8-0e4c-46d8-f45f-71fd3a4bc7b0"
      },
      "source": [
        "np.stack([torch.exp(m(x)).detach().cpu().numpy() for t in range(2)]).mean(axis = 0)"
      ],
      "execution_count": null,
      "outputs": [
        {
          "output_type": "execute_result",
          "data": {
            "text/plain": [
              "array([[7.05653219e-05, 2.55348425e-07, 1.07638582e-04, 7.95450433e-06,\n",
              "        2.12055020e-04, 2.53280268e-06, 3.92722029e-07, 1.30245179e-01,\n",
              "        1.73626657e-04, 8.69179845e-01],\n",
              "       [3.82382125e-01, 4.72449944e-12, 4.21593462e-08, 4.44664853e-03,\n",
              "        3.81617874e-01, 2.61833854e-02, 6.79468542e-07, 1.23382965e-02,\n",
              "        2.43220302e-06, 1.93028569e-01]], dtype=float32)"
            ]
          },
          "metadata": {
            "tags": []
          },
          "execution_count": 44
        }
      ]
    },
    {
      "cell_type": "code",
      "metadata": {
        "id": "iAo6mhcTps4b"
      },
      "source": [
        "rand_idx = np.concatenate([bald(m, X_pool) for n in range(10)])"
      ],
      "execution_count": null,
      "outputs": []
    },
    {
      "cell_type": "code",
      "metadata": {
        "colab": {
          "base_uri": "https://localhost:8080/"
        },
        "id": "Y7TOjPvWylSK",
        "outputId": "52d4c83a-84cd-4384-ace3-30466d964700"
      },
      "source": [
        "bald(m, X_pool)"
      ],
      "execution_count": null,
      "outputs": [
        {
          "output_type": "execute_result",
          "data": {
            "text/plain": [
              "array([32554])"
            ]
          },
          "metadata": {
            "tags": []
          },
          "execution_count": 32
        }
      ]
    },
    {
      "cell_type": "code",
      "metadata": {
        "colab": {
          "base_uri": "https://localhost:8080/"
        },
        "id": "r4LGPvKryZ1k",
        "outputId": "fb78e25e-d550-42d9-f2c3-769f4fc7845f"
      },
      "source": [
        "acquisition_hist, successor1_hist, successor2_hist, scores = active_learning_procedure(\n",
        "                                                                                X_test,\n",
        "                                                                                y_test,\n",
        "                                                                                X_pool,\n",
        "                                                                                y_pool,\n",
        "                                                                                X_initial,\n",
        "                                                                                y_initial)"
      ],
      "execution_count": null,
      "outputs": [
        {
          "output_type": "stream",
          "text": [
            "Query 1: 0.5411(Model A)    |     0.4903(Model S1) - 0.5022(Model S2) \n",
            "Query 2: 0.5899(Model A)    |     0.5737(Model S1) - 0.6170(Model S2) \n"
          ],
          "name": "stdout"
        }
      ]
    },
    {
      "cell_type": "code",
      "metadata": {
        "id": "gWaDChp3zkgA"
      },
      "source": [
        "query_idx = np.concatenate([bald(m, X_pool) for n in range(10)])\n"
      ],
      "execution_count": null,
      "outputs": []
    },
    {
      "cell_type": "code",
      "metadata": {
        "colab": {
          "base_uri": "https://localhost:8080/"
        },
        "id": "mY-us7rK3LZR",
        "outputId": "ea55ab11-6256-43b5-a642-ce9639ca9994"
      },
      "source": [
        "X_pool[query_idx].shape"
      ],
      "execution_count": 18,
      "outputs": [
        {
          "output_type": "execute_result",
          "data": {
            "text/plain": [
              "torch.Size([1000, 784])"
            ]
          },
          "metadata": {
            "tags": []
          },
          "execution_count": 18
        }
      ]
    },
    {
      "cell_type": "code",
      "metadata": {
        "id": "BAM4bUIt2gz3"
      },
      "source": [
        "x_train_sample = X_initial\n",
        "x_train_sample = torch.vstack((x_train_sample, X_pool[query_idx]))"
      ],
      "execution_count": null,
      "outputs": []
    },
    {
      "cell_type": "code",
      "metadata": {
        "colab": {
          "base_uri": "https://localhost:8080/"
        },
        "id": "HvjDWGl12m9m",
        "outputId": "66833ee2-bf8b-4b5f-bcf8-78b1e0b05865"
      },
      "source": [
        "x_train_sample.shape"
      ],
      "execution_count": null,
      "outputs": [
        {
          "output_type": "execute_result",
          "data": {
            "text/plain": [
              "torch.Size([20, 784])"
            ]
          },
          "metadata": {
            "tags": []
          },
          "execution_count": 58
        }
      ]
    },
    {
      "cell_type": "code",
      "metadata": {
        "colab": {
          "base_uri": "https://localhost:8080/"
        },
        "id": "SrFbhOk_2rMG",
        "outputId": "053bded8-a3bc-4c02-a38c-65af21342945"
      },
      "source": [
        "y_train_sample = y_initial\n",
        "torch.cat((y_train_sample,y_pool[query_idx]))\n"
      ],
      "execution_count": null,
      "outputs": [
        {
          "output_type": "execute_result",
          "data": {
            "text/plain": [
              "tensor([0, 0, 1, 1, 2, 2, 3, 3, 4, 4, 5, 5, 6, 6, 7, 7, 8, 8, 9, 9, 6, 6, 2, 5,\n",
              "        6, 7, 4, 6, 2, 6])"
            ]
          },
          "metadata": {
            "tags": []
          },
          "execution_count": 66
        }
      ]
    },
    {
      "cell_type": "code",
      "metadata": {
        "colab": {
          "base_uri": "https://localhost:8080/"
        },
        "id": "DAXIQTfS3Fsm",
        "outputId": "0d149f91-d4c5-4c19-f765-ea6ba843bb4d"
      },
      "source": [
        "y_pool[query_idx]"
      ],
      "execution_count": null,
      "outputs": [
        {
          "output_type": "execute_result",
          "data": {
            "text/plain": [
              "tensor([6, 6, 2, 5, 6, 7, 4, 6, 2, 6])"
            ]
          },
          "metadata": {
            "tags": []
          },
          "execution_count": 67
        }
      ]
    },
    {
      "cell_type": "code",
      "metadata": {
        "colab": {
          "base_uri": "https://localhost:8080/"
        },
        "id": "FttbrOFj3Raa",
        "outputId": "35514883-a0eb-4df8-f788-99717fa0ec9a"
      },
      "source": [
        "y_train_sample"
      ],
      "execution_count": null,
      "outputs": [
        {
          "output_type": "execute_result",
          "data": {
            "text/plain": [
              "tensor([0, 0, 1, 1, 2, 2, 3, 3, 4, 4, 5, 5, 6, 6, 7, 7, 8, 8, 9, 9])"
            ]
          },
          "metadata": {
            "tags": []
          },
          "execution_count": 68
        }
      ]
    }
  ]
}