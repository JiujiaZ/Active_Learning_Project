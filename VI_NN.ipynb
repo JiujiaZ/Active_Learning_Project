{
  "nbformat": 4,
  "nbformat_minor": 0,
  "metadata": {
    "accelerator": "GPU",
    "colab": {
      "name": "VI_NN.ipynb",
      "provenance": [],
      "collapsed_sections": []
    },
    "kernelspec": {
      "display_name": "Python 3",
      "language": "python",
      "name": "python3"
    },
    "language_info": {
      "codemirror_mode": {
        "name": "ipython",
        "version": 3
      },
      "file_extension": ".py",
      "mimetype": "text/x-python",
      "name": "python",
      "nbconvert_exporter": "python",
      "pygments_lexer": "ipython3",
      "version": "3.8.10"
    },
    "widgets": {
      "application/vnd.jupyter.widget-state+json": {
        "73de135371334303b74116712cbee197": {
          "model_module": "@jupyter-widgets/controls",
          "model_name": "HBoxModel",
          "state": {
            "_view_name": "HBoxView",
            "_dom_classes": [],
            "_model_name": "HBoxModel",
            "_view_module": "@jupyter-widgets/controls",
            "_model_module_version": "1.5.0",
            "_view_count": null,
            "_view_module_version": "1.5.0",
            "box_style": "",
            "layout": "IPY_MODEL_4d7b522a72b4498ba2ce1c226e2d20e0",
            "_model_module": "@jupyter-widgets/controls",
            "children": [
              "IPY_MODEL_0585a86059374f36ade4c1ba45338aeb",
              "IPY_MODEL_07886770f341423a87ff2a1285a7769a"
            ]
          }
        },
        "4d7b522a72b4498ba2ce1c226e2d20e0": {
          "model_module": "@jupyter-widgets/base",
          "model_name": "LayoutModel",
          "state": {
            "_view_name": "LayoutView",
            "grid_template_rows": null,
            "right": null,
            "justify_content": null,
            "_view_module": "@jupyter-widgets/base",
            "overflow": null,
            "_model_module_version": "1.2.0",
            "_view_count": null,
            "flex_flow": null,
            "width": null,
            "min_width": null,
            "border": null,
            "align_items": null,
            "bottom": null,
            "_model_module": "@jupyter-widgets/base",
            "top": null,
            "grid_column": null,
            "overflow_y": null,
            "overflow_x": null,
            "grid_auto_flow": null,
            "grid_area": null,
            "grid_template_columns": null,
            "flex": null,
            "_model_name": "LayoutModel",
            "justify_items": null,
            "grid_row": null,
            "max_height": null,
            "align_content": null,
            "visibility": null,
            "align_self": null,
            "height": null,
            "min_height": null,
            "padding": null,
            "grid_auto_rows": null,
            "grid_gap": null,
            "max_width": null,
            "order": null,
            "_view_module_version": "1.2.0",
            "grid_template_areas": null,
            "object_position": null,
            "object_fit": null,
            "grid_auto_columns": null,
            "margin": null,
            "display": null,
            "left": null
          }
        },
        "0585a86059374f36ade4c1ba45338aeb": {
          "model_module": "@jupyter-widgets/controls",
          "model_name": "FloatProgressModel",
          "state": {
            "_view_name": "ProgressView",
            "style": "IPY_MODEL_8ddb2980c50c478f83e15f53cf028519",
            "_dom_classes": [],
            "description": "",
            "_model_name": "FloatProgressModel",
            "bar_style": "success",
            "max": 9912422,
            "_view_module": "@jupyter-widgets/controls",
            "_model_module_version": "1.5.0",
            "value": 9912422,
            "_view_count": null,
            "_view_module_version": "1.5.0",
            "orientation": "horizontal",
            "min": 0,
            "description_tooltip": null,
            "_model_module": "@jupyter-widgets/controls",
            "layout": "IPY_MODEL_fa6f1c2839674264ae28f1115201a91a"
          }
        },
        "07886770f341423a87ff2a1285a7769a": {
          "model_module": "@jupyter-widgets/controls",
          "model_name": "HTMLModel",
          "state": {
            "_view_name": "HTMLView",
            "style": "IPY_MODEL_fe0cde1a43214e8ab8c99974b7ef690e",
            "_dom_classes": [],
            "description": "",
            "_model_name": "HTMLModel",
            "placeholder": "​",
            "_view_module": "@jupyter-widgets/controls",
            "_model_module_version": "1.5.0",
            "value": " 9913344/? [04:40&lt;00:00, 35337.10it/s]",
            "_view_count": null,
            "_view_module_version": "1.5.0",
            "description_tooltip": null,
            "_model_module": "@jupyter-widgets/controls",
            "layout": "IPY_MODEL_eee9afb354e64aa29dc5d6398107e06b"
          }
        },
        "8ddb2980c50c478f83e15f53cf028519": {
          "model_module": "@jupyter-widgets/controls",
          "model_name": "ProgressStyleModel",
          "state": {
            "_view_name": "StyleView",
            "_model_name": "ProgressStyleModel",
            "description_width": "initial",
            "_view_module": "@jupyter-widgets/base",
            "_model_module_version": "1.5.0",
            "_view_count": null,
            "_view_module_version": "1.2.0",
            "bar_color": null,
            "_model_module": "@jupyter-widgets/controls"
          }
        },
        "fa6f1c2839674264ae28f1115201a91a": {
          "model_module": "@jupyter-widgets/base",
          "model_name": "LayoutModel",
          "state": {
            "_view_name": "LayoutView",
            "grid_template_rows": null,
            "right": null,
            "justify_content": null,
            "_view_module": "@jupyter-widgets/base",
            "overflow": null,
            "_model_module_version": "1.2.0",
            "_view_count": null,
            "flex_flow": null,
            "width": null,
            "min_width": null,
            "border": null,
            "align_items": null,
            "bottom": null,
            "_model_module": "@jupyter-widgets/base",
            "top": null,
            "grid_column": null,
            "overflow_y": null,
            "overflow_x": null,
            "grid_auto_flow": null,
            "grid_area": null,
            "grid_template_columns": null,
            "flex": null,
            "_model_name": "LayoutModel",
            "justify_items": null,
            "grid_row": null,
            "max_height": null,
            "align_content": null,
            "visibility": null,
            "align_self": null,
            "height": null,
            "min_height": null,
            "padding": null,
            "grid_auto_rows": null,
            "grid_gap": null,
            "max_width": null,
            "order": null,
            "_view_module_version": "1.2.0",
            "grid_template_areas": null,
            "object_position": null,
            "object_fit": null,
            "grid_auto_columns": null,
            "margin": null,
            "display": null,
            "left": null
          }
        },
        "fe0cde1a43214e8ab8c99974b7ef690e": {
          "model_module": "@jupyter-widgets/controls",
          "model_name": "DescriptionStyleModel",
          "state": {
            "_view_name": "StyleView",
            "_model_name": "DescriptionStyleModel",
            "description_width": "",
            "_view_module": "@jupyter-widgets/base",
            "_model_module_version": "1.5.0",
            "_view_count": null,
            "_view_module_version": "1.2.0",
            "_model_module": "@jupyter-widgets/controls"
          }
        },
        "eee9afb354e64aa29dc5d6398107e06b": {
          "model_module": "@jupyter-widgets/base",
          "model_name": "LayoutModel",
          "state": {
            "_view_name": "LayoutView",
            "grid_template_rows": null,
            "right": null,
            "justify_content": null,
            "_view_module": "@jupyter-widgets/base",
            "overflow": null,
            "_model_module_version": "1.2.0",
            "_view_count": null,
            "flex_flow": null,
            "width": null,
            "min_width": null,
            "border": null,
            "align_items": null,
            "bottom": null,
            "_model_module": "@jupyter-widgets/base",
            "top": null,
            "grid_column": null,
            "overflow_y": null,
            "overflow_x": null,
            "grid_auto_flow": null,
            "grid_area": null,
            "grid_template_columns": null,
            "flex": null,
            "_model_name": "LayoutModel",
            "justify_items": null,
            "grid_row": null,
            "max_height": null,
            "align_content": null,
            "visibility": null,
            "align_self": null,
            "height": null,
            "min_height": null,
            "padding": null,
            "grid_auto_rows": null,
            "grid_gap": null,
            "max_width": null,
            "order": null,
            "_view_module_version": "1.2.0",
            "grid_template_areas": null,
            "object_position": null,
            "object_fit": null,
            "grid_auto_columns": null,
            "margin": null,
            "display": null,
            "left": null
          }
        },
        "9703f62585a84072bd46fb066401b266": {
          "model_module": "@jupyter-widgets/controls",
          "model_name": "HBoxModel",
          "state": {
            "_view_name": "HBoxView",
            "_dom_classes": [],
            "_model_name": "HBoxModel",
            "_view_module": "@jupyter-widgets/controls",
            "_model_module_version": "1.5.0",
            "_view_count": null,
            "_view_module_version": "1.5.0",
            "box_style": "",
            "layout": "IPY_MODEL_18763ea935074ac1807aa92dc8a796a9",
            "_model_module": "@jupyter-widgets/controls",
            "children": [
              "IPY_MODEL_0c70bea2b3d84008bdf3296d505f0c1e",
              "IPY_MODEL_c71448f8679f4ad09adc5fff703a8a20"
            ]
          }
        },
        "18763ea935074ac1807aa92dc8a796a9": {
          "model_module": "@jupyter-widgets/base",
          "model_name": "LayoutModel",
          "state": {
            "_view_name": "LayoutView",
            "grid_template_rows": null,
            "right": null,
            "justify_content": null,
            "_view_module": "@jupyter-widgets/base",
            "overflow": null,
            "_model_module_version": "1.2.0",
            "_view_count": null,
            "flex_flow": null,
            "width": null,
            "min_width": null,
            "border": null,
            "align_items": null,
            "bottom": null,
            "_model_module": "@jupyter-widgets/base",
            "top": null,
            "grid_column": null,
            "overflow_y": null,
            "overflow_x": null,
            "grid_auto_flow": null,
            "grid_area": null,
            "grid_template_columns": null,
            "flex": null,
            "_model_name": "LayoutModel",
            "justify_items": null,
            "grid_row": null,
            "max_height": null,
            "align_content": null,
            "visibility": null,
            "align_self": null,
            "height": null,
            "min_height": null,
            "padding": null,
            "grid_auto_rows": null,
            "grid_gap": null,
            "max_width": null,
            "order": null,
            "_view_module_version": "1.2.0",
            "grid_template_areas": null,
            "object_position": null,
            "object_fit": null,
            "grid_auto_columns": null,
            "margin": null,
            "display": null,
            "left": null
          }
        },
        "0c70bea2b3d84008bdf3296d505f0c1e": {
          "model_module": "@jupyter-widgets/controls",
          "model_name": "FloatProgressModel",
          "state": {
            "_view_name": "ProgressView",
            "style": "IPY_MODEL_d30597e9c31e4631b0ac56183f6a2c66",
            "_dom_classes": [],
            "description": "",
            "_model_name": "FloatProgressModel",
            "bar_style": "success",
            "max": 28881,
            "_view_module": "@jupyter-widgets/controls",
            "_model_module_version": "1.5.0",
            "value": 28881,
            "_view_count": null,
            "_view_module_version": "1.5.0",
            "orientation": "horizontal",
            "min": 0,
            "description_tooltip": null,
            "_model_module": "@jupyter-widgets/controls",
            "layout": "IPY_MODEL_73b63a0ae46d4a5ba451db44838d6db0"
          }
        },
        "c71448f8679f4ad09adc5fff703a8a20": {
          "model_module": "@jupyter-widgets/controls",
          "model_name": "HTMLModel",
          "state": {
            "_view_name": "HTMLView",
            "style": "IPY_MODEL_5915cca49959407e8ab06e90956fa16b",
            "_dom_classes": [],
            "description": "",
            "_model_name": "HTMLModel",
            "placeholder": "​",
            "_view_module": "@jupyter-widgets/controls",
            "_model_module_version": "1.5.0",
            "value": " 29696/? [00:02&lt;00:00, 9929.25it/s]",
            "_view_count": null,
            "_view_module_version": "1.5.0",
            "description_tooltip": null,
            "_model_module": "@jupyter-widgets/controls",
            "layout": "IPY_MODEL_1f9f8cb944bc4d1b9a3dc9ea50275bae"
          }
        },
        "d30597e9c31e4631b0ac56183f6a2c66": {
          "model_module": "@jupyter-widgets/controls",
          "model_name": "ProgressStyleModel",
          "state": {
            "_view_name": "StyleView",
            "_model_name": "ProgressStyleModel",
            "description_width": "initial",
            "_view_module": "@jupyter-widgets/base",
            "_model_module_version": "1.5.0",
            "_view_count": null,
            "_view_module_version": "1.2.0",
            "bar_color": null,
            "_model_module": "@jupyter-widgets/controls"
          }
        },
        "73b63a0ae46d4a5ba451db44838d6db0": {
          "model_module": "@jupyter-widgets/base",
          "model_name": "LayoutModel",
          "state": {
            "_view_name": "LayoutView",
            "grid_template_rows": null,
            "right": null,
            "justify_content": null,
            "_view_module": "@jupyter-widgets/base",
            "overflow": null,
            "_model_module_version": "1.2.0",
            "_view_count": null,
            "flex_flow": null,
            "width": null,
            "min_width": null,
            "border": null,
            "align_items": null,
            "bottom": null,
            "_model_module": "@jupyter-widgets/base",
            "top": null,
            "grid_column": null,
            "overflow_y": null,
            "overflow_x": null,
            "grid_auto_flow": null,
            "grid_area": null,
            "grid_template_columns": null,
            "flex": null,
            "_model_name": "LayoutModel",
            "justify_items": null,
            "grid_row": null,
            "max_height": null,
            "align_content": null,
            "visibility": null,
            "align_self": null,
            "height": null,
            "min_height": null,
            "padding": null,
            "grid_auto_rows": null,
            "grid_gap": null,
            "max_width": null,
            "order": null,
            "_view_module_version": "1.2.0",
            "grid_template_areas": null,
            "object_position": null,
            "object_fit": null,
            "grid_auto_columns": null,
            "margin": null,
            "display": null,
            "left": null
          }
        },
        "5915cca49959407e8ab06e90956fa16b": {
          "model_module": "@jupyter-widgets/controls",
          "model_name": "DescriptionStyleModel",
          "state": {
            "_view_name": "StyleView",
            "_model_name": "DescriptionStyleModel",
            "description_width": "",
            "_view_module": "@jupyter-widgets/base",
            "_model_module_version": "1.5.0",
            "_view_count": null,
            "_view_module_version": "1.2.0",
            "_model_module": "@jupyter-widgets/controls"
          }
        },
        "1f9f8cb944bc4d1b9a3dc9ea50275bae": {
          "model_module": "@jupyter-widgets/base",
          "model_name": "LayoutModel",
          "state": {
            "_view_name": "LayoutView",
            "grid_template_rows": null,
            "right": null,
            "justify_content": null,
            "_view_module": "@jupyter-widgets/base",
            "overflow": null,
            "_model_module_version": "1.2.0",
            "_view_count": null,
            "flex_flow": null,
            "width": null,
            "min_width": null,
            "border": null,
            "align_items": null,
            "bottom": null,
            "_model_module": "@jupyter-widgets/base",
            "top": null,
            "grid_column": null,
            "overflow_y": null,
            "overflow_x": null,
            "grid_auto_flow": null,
            "grid_area": null,
            "grid_template_columns": null,
            "flex": null,
            "_model_name": "LayoutModel",
            "justify_items": null,
            "grid_row": null,
            "max_height": null,
            "align_content": null,
            "visibility": null,
            "align_self": null,
            "height": null,
            "min_height": null,
            "padding": null,
            "grid_auto_rows": null,
            "grid_gap": null,
            "max_width": null,
            "order": null,
            "_view_module_version": "1.2.0",
            "grid_template_areas": null,
            "object_position": null,
            "object_fit": null,
            "grid_auto_columns": null,
            "margin": null,
            "display": null,
            "left": null
          }
        },
        "da1b2e181e6c4f609c34d013117bc5f8": {
          "model_module": "@jupyter-widgets/controls",
          "model_name": "HBoxModel",
          "state": {
            "_view_name": "HBoxView",
            "_dom_classes": [],
            "_model_name": "HBoxModel",
            "_view_module": "@jupyter-widgets/controls",
            "_model_module_version": "1.5.0",
            "_view_count": null,
            "_view_module_version": "1.5.0",
            "box_style": "",
            "layout": "IPY_MODEL_61ef35e7caea4c6ea19f202df9187e89",
            "_model_module": "@jupyter-widgets/controls",
            "children": [
              "IPY_MODEL_d8531680f74f45c1b3e72295eb520263",
              "IPY_MODEL_3bb2e873ada643648df233796c79f0d4"
            ]
          }
        },
        "61ef35e7caea4c6ea19f202df9187e89": {
          "model_module": "@jupyter-widgets/base",
          "model_name": "LayoutModel",
          "state": {
            "_view_name": "LayoutView",
            "grid_template_rows": null,
            "right": null,
            "justify_content": null,
            "_view_module": "@jupyter-widgets/base",
            "overflow": null,
            "_model_module_version": "1.2.0",
            "_view_count": null,
            "flex_flow": null,
            "width": null,
            "min_width": null,
            "border": null,
            "align_items": null,
            "bottom": null,
            "_model_module": "@jupyter-widgets/base",
            "top": null,
            "grid_column": null,
            "overflow_y": null,
            "overflow_x": null,
            "grid_auto_flow": null,
            "grid_area": null,
            "grid_template_columns": null,
            "flex": null,
            "_model_name": "LayoutModel",
            "justify_items": null,
            "grid_row": null,
            "max_height": null,
            "align_content": null,
            "visibility": null,
            "align_self": null,
            "height": null,
            "min_height": null,
            "padding": null,
            "grid_auto_rows": null,
            "grid_gap": null,
            "max_width": null,
            "order": null,
            "_view_module_version": "1.2.0",
            "grid_template_areas": null,
            "object_position": null,
            "object_fit": null,
            "grid_auto_columns": null,
            "margin": null,
            "display": null,
            "left": null
          }
        },
        "d8531680f74f45c1b3e72295eb520263": {
          "model_module": "@jupyter-widgets/controls",
          "model_name": "FloatProgressModel",
          "state": {
            "_view_name": "ProgressView",
            "style": "IPY_MODEL_ef7fb1ee89a54a52a43fa7b5fcd3b507",
            "_dom_classes": [],
            "description": "",
            "_model_name": "FloatProgressModel",
            "bar_style": "success",
            "max": 1648877,
            "_view_module": "@jupyter-widgets/controls",
            "_model_module_version": "1.5.0",
            "value": 1648877,
            "_view_count": null,
            "_view_module_version": "1.5.0",
            "orientation": "horizontal",
            "min": 0,
            "description_tooltip": null,
            "_model_module": "@jupyter-widgets/controls",
            "layout": "IPY_MODEL_b6231d7583c6432d8773e643d0af55ec"
          }
        },
        "3bb2e873ada643648df233796c79f0d4": {
          "model_module": "@jupyter-widgets/controls",
          "model_name": "HTMLModel",
          "state": {
            "_view_name": "HTMLView",
            "style": "IPY_MODEL_227897a682d24f62b69308dc1a8d99fd",
            "_dom_classes": [],
            "description": "",
            "_model_name": "HTMLModel",
            "placeholder": "​",
            "_view_module": "@jupyter-widgets/controls",
            "_model_module_version": "1.5.0",
            "value": " 1649664/? [00:01&lt;00:00, 1230624.05it/s]",
            "_view_count": null,
            "_view_module_version": "1.5.0",
            "description_tooltip": null,
            "_model_module": "@jupyter-widgets/controls",
            "layout": "IPY_MODEL_8d742238fc0141aa89cba09e3b53aba0"
          }
        },
        "ef7fb1ee89a54a52a43fa7b5fcd3b507": {
          "model_module": "@jupyter-widgets/controls",
          "model_name": "ProgressStyleModel",
          "state": {
            "_view_name": "StyleView",
            "_model_name": "ProgressStyleModel",
            "description_width": "initial",
            "_view_module": "@jupyter-widgets/base",
            "_model_module_version": "1.5.0",
            "_view_count": null,
            "_view_module_version": "1.2.0",
            "bar_color": null,
            "_model_module": "@jupyter-widgets/controls"
          }
        },
        "b6231d7583c6432d8773e643d0af55ec": {
          "model_module": "@jupyter-widgets/base",
          "model_name": "LayoutModel",
          "state": {
            "_view_name": "LayoutView",
            "grid_template_rows": null,
            "right": null,
            "justify_content": null,
            "_view_module": "@jupyter-widgets/base",
            "overflow": null,
            "_model_module_version": "1.2.0",
            "_view_count": null,
            "flex_flow": null,
            "width": null,
            "min_width": null,
            "border": null,
            "align_items": null,
            "bottom": null,
            "_model_module": "@jupyter-widgets/base",
            "top": null,
            "grid_column": null,
            "overflow_y": null,
            "overflow_x": null,
            "grid_auto_flow": null,
            "grid_area": null,
            "grid_template_columns": null,
            "flex": null,
            "_model_name": "LayoutModel",
            "justify_items": null,
            "grid_row": null,
            "max_height": null,
            "align_content": null,
            "visibility": null,
            "align_self": null,
            "height": null,
            "min_height": null,
            "padding": null,
            "grid_auto_rows": null,
            "grid_gap": null,
            "max_width": null,
            "order": null,
            "_view_module_version": "1.2.0",
            "grid_template_areas": null,
            "object_position": null,
            "object_fit": null,
            "grid_auto_columns": null,
            "margin": null,
            "display": null,
            "left": null
          }
        },
        "227897a682d24f62b69308dc1a8d99fd": {
          "model_module": "@jupyter-widgets/controls",
          "model_name": "DescriptionStyleModel",
          "state": {
            "_view_name": "StyleView",
            "_model_name": "DescriptionStyleModel",
            "description_width": "",
            "_view_module": "@jupyter-widgets/base",
            "_model_module_version": "1.5.0",
            "_view_count": null,
            "_view_module_version": "1.2.0",
            "_model_module": "@jupyter-widgets/controls"
          }
        },
        "8d742238fc0141aa89cba09e3b53aba0": {
          "model_module": "@jupyter-widgets/base",
          "model_name": "LayoutModel",
          "state": {
            "_view_name": "LayoutView",
            "grid_template_rows": null,
            "right": null,
            "justify_content": null,
            "_view_module": "@jupyter-widgets/base",
            "overflow": null,
            "_model_module_version": "1.2.0",
            "_view_count": null,
            "flex_flow": null,
            "width": null,
            "min_width": null,
            "border": null,
            "align_items": null,
            "bottom": null,
            "_model_module": "@jupyter-widgets/base",
            "top": null,
            "grid_column": null,
            "overflow_y": null,
            "overflow_x": null,
            "grid_auto_flow": null,
            "grid_area": null,
            "grid_template_columns": null,
            "flex": null,
            "_model_name": "LayoutModel",
            "justify_items": null,
            "grid_row": null,
            "max_height": null,
            "align_content": null,
            "visibility": null,
            "align_self": null,
            "height": null,
            "min_height": null,
            "padding": null,
            "grid_auto_rows": null,
            "grid_gap": null,
            "max_width": null,
            "order": null,
            "_view_module_version": "1.2.0",
            "grid_template_areas": null,
            "object_position": null,
            "object_fit": null,
            "grid_auto_columns": null,
            "margin": null,
            "display": null,
            "left": null
          }
        },
        "bacad9d4fee64235a4adce7c842da8ea": {
          "model_module": "@jupyter-widgets/controls",
          "model_name": "HBoxModel",
          "state": {
            "_view_name": "HBoxView",
            "_dom_classes": [],
            "_model_name": "HBoxModel",
            "_view_module": "@jupyter-widgets/controls",
            "_model_module_version": "1.5.0",
            "_view_count": null,
            "_view_module_version": "1.5.0",
            "box_style": "",
            "layout": "IPY_MODEL_c8d2224558f24415bca38d4feb2d1107",
            "_model_module": "@jupyter-widgets/controls",
            "children": [
              "IPY_MODEL_6921bbd9ec14487997f1cf81026d44b1",
              "IPY_MODEL_1bc7e0297c5f412fbf630aa2cfa99d7d"
            ]
          }
        },
        "c8d2224558f24415bca38d4feb2d1107": {
          "model_module": "@jupyter-widgets/base",
          "model_name": "LayoutModel",
          "state": {
            "_view_name": "LayoutView",
            "grid_template_rows": null,
            "right": null,
            "justify_content": null,
            "_view_module": "@jupyter-widgets/base",
            "overflow": null,
            "_model_module_version": "1.2.0",
            "_view_count": null,
            "flex_flow": null,
            "width": null,
            "min_width": null,
            "border": null,
            "align_items": null,
            "bottom": null,
            "_model_module": "@jupyter-widgets/base",
            "top": null,
            "grid_column": null,
            "overflow_y": null,
            "overflow_x": null,
            "grid_auto_flow": null,
            "grid_area": null,
            "grid_template_columns": null,
            "flex": null,
            "_model_name": "LayoutModel",
            "justify_items": null,
            "grid_row": null,
            "max_height": null,
            "align_content": null,
            "visibility": null,
            "align_self": null,
            "height": null,
            "min_height": null,
            "padding": null,
            "grid_auto_rows": null,
            "grid_gap": null,
            "max_width": null,
            "order": null,
            "_view_module_version": "1.2.0",
            "grid_template_areas": null,
            "object_position": null,
            "object_fit": null,
            "grid_auto_columns": null,
            "margin": null,
            "display": null,
            "left": null
          }
        },
        "6921bbd9ec14487997f1cf81026d44b1": {
          "model_module": "@jupyter-widgets/controls",
          "model_name": "FloatProgressModel",
          "state": {
            "_view_name": "ProgressView",
            "style": "IPY_MODEL_247ff795ed0741cabd829aa2369b60a6",
            "_dom_classes": [],
            "description": "",
            "_model_name": "FloatProgressModel",
            "bar_style": "success",
            "max": 4542,
            "_view_module": "@jupyter-widgets/controls",
            "_model_module_version": "1.5.0",
            "value": 4542,
            "_view_count": null,
            "_view_module_version": "1.5.0",
            "orientation": "horizontal",
            "min": 0,
            "description_tooltip": null,
            "_model_module": "@jupyter-widgets/controls",
            "layout": "IPY_MODEL_5e4078c9837c4431b94e1ab4bf936e74"
          }
        },
        "1bc7e0297c5f412fbf630aa2cfa99d7d": {
          "model_module": "@jupyter-widgets/controls",
          "model_name": "HTMLModel",
          "state": {
            "_view_name": "HTMLView",
            "style": "IPY_MODEL_cec3eba1a9bf461eae2a5a02b986d97e",
            "_dom_classes": [],
            "description": "",
            "_model_name": "HTMLModel",
            "placeholder": "​",
            "_view_module": "@jupyter-widgets/controls",
            "_model_module_version": "1.5.0",
            "value": " 5120/? [00:00&lt;00:00, 16700.60it/s]",
            "_view_count": null,
            "_view_module_version": "1.5.0",
            "description_tooltip": null,
            "_model_module": "@jupyter-widgets/controls",
            "layout": "IPY_MODEL_2c50fe30e4c143d1afef7196267957a2"
          }
        },
        "247ff795ed0741cabd829aa2369b60a6": {
          "model_module": "@jupyter-widgets/controls",
          "model_name": "ProgressStyleModel",
          "state": {
            "_view_name": "StyleView",
            "_model_name": "ProgressStyleModel",
            "description_width": "initial",
            "_view_module": "@jupyter-widgets/base",
            "_model_module_version": "1.5.0",
            "_view_count": null,
            "_view_module_version": "1.2.0",
            "bar_color": null,
            "_model_module": "@jupyter-widgets/controls"
          }
        },
        "5e4078c9837c4431b94e1ab4bf936e74": {
          "model_module": "@jupyter-widgets/base",
          "model_name": "LayoutModel",
          "state": {
            "_view_name": "LayoutView",
            "grid_template_rows": null,
            "right": null,
            "justify_content": null,
            "_view_module": "@jupyter-widgets/base",
            "overflow": null,
            "_model_module_version": "1.2.0",
            "_view_count": null,
            "flex_flow": null,
            "width": null,
            "min_width": null,
            "border": null,
            "align_items": null,
            "bottom": null,
            "_model_module": "@jupyter-widgets/base",
            "top": null,
            "grid_column": null,
            "overflow_y": null,
            "overflow_x": null,
            "grid_auto_flow": null,
            "grid_area": null,
            "grid_template_columns": null,
            "flex": null,
            "_model_name": "LayoutModel",
            "justify_items": null,
            "grid_row": null,
            "max_height": null,
            "align_content": null,
            "visibility": null,
            "align_self": null,
            "height": null,
            "min_height": null,
            "padding": null,
            "grid_auto_rows": null,
            "grid_gap": null,
            "max_width": null,
            "order": null,
            "_view_module_version": "1.2.0",
            "grid_template_areas": null,
            "object_position": null,
            "object_fit": null,
            "grid_auto_columns": null,
            "margin": null,
            "display": null,
            "left": null
          }
        },
        "cec3eba1a9bf461eae2a5a02b986d97e": {
          "model_module": "@jupyter-widgets/controls",
          "model_name": "DescriptionStyleModel",
          "state": {
            "_view_name": "StyleView",
            "_model_name": "DescriptionStyleModel",
            "description_width": "",
            "_view_module": "@jupyter-widgets/base",
            "_model_module_version": "1.5.0",
            "_view_count": null,
            "_view_module_version": "1.2.0",
            "_model_module": "@jupyter-widgets/controls"
          }
        },
        "2c50fe30e4c143d1afef7196267957a2": {
          "model_module": "@jupyter-widgets/base",
          "model_name": "LayoutModel",
          "state": {
            "_view_name": "LayoutView",
            "grid_template_rows": null,
            "right": null,
            "justify_content": null,
            "_view_module": "@jupyter-widgets/base",
            "overflow": null,
            "_model_module_version": "1.2.0",
            "_view_count": null,
            "flex_flow": null,
            "width": null,
            "min_width": null,
            "border": null,
            "align_items": null,
            "bottom": null,
            "_model_module": "@jupyter-widgets/base",
            "top": null,
            "grid_column": null,
            "overflow_y": null,
            "overflow_x": null,
            "grid_auto_flow": null,
            "grid_area": null,
            "grid_template_columns": null,
            "flex": null,
            "_model_name": "LayoutModel",
            "justify_items": null,
            "grid_row": null,
            "max_height": null,
            "align_content": null,
            "visibility": null,
            "align_self": null,
            "height": null,
            "min_height": null,
            "padding": null,
            "grid_auto_rows": null,
            "grid_gap": null,
            "max_width": null,
            "order": null,
            "_view_module_version": "1.2.0",
            "grid_template_areas": null,
            "object_position": null,
            "object_fit": null,
            "grid_auto_columns": null,
            "margin": null,
            "display": null,
            "left": null
          }
        }
      }
    }
  },
  "cells": [
    {
      "cell_type": "markdown",
      "metadata": {
        "id": "tD9Ga46BWZ8w"
      },
      "source": [
        "Aim: initial size = 10, find setting AL is superior than IID, use default lr\n",
        "<br> \n",
        "Try: (1) n = 1, mini-batches"
      ]
    },
    {
      "cell_type": "code",
      "metadata": {
        "id": "pj8JwyyFdQvo"
      },
      "source": [
        "import numpy as np\n",
        "import torch\n",
        "from torch import nn, distributions\n",
        "import torch.nn.functional as F\n",
        "from torch.utils.data import DataLoader\n",
        "from torchvision.transforms import ToTensor\n",
        "from torchvision import datasets\n",
        "from dataclasses import dataclass"
      ],
      "execution_count": null,
      "outputs": []
    },
    {
      "cell_type": "code",
      "metadata": {
        "id": "WvJsuwgRdQvr",
        "colab": {
          "base_uri": "https://localhost:8080/",
          "height": 630,
          "referenced_widgets": [
            "73de135371334303b74116712cbee197",
            "4d7b522a72b4498ba2ce1c226e2d20e0",
            "0585a86059374f36ade4c1ba45338aeb",
            "07886770f341423a87ff2a1285a7769a",
            "8ddb2980c50c478f83e15f53cf028519",
            "fa6f1c2839674264ae28f1115201a91a",
            "fe0cde1a43214e8ab8c99974b7ef690e",
            "eee9afb354e64aa29dc5d6398107e06b",
            "9703f62585a84072bd46fb066401b266",
            "18763ea935074ac1807aa92dc8a796a9",
            "0c70bea2b3d84008bdf3296d505f0c1e",
            "c71448f8679f4ad09adc5fff703a8a20",
            "d30597e9c31e4631b0ac56183f6a2c66",
            "73b63a0ae46d4a5ba451db44838d6db0",
            "5915cca49959407e8ab06e90956fa16b",
            "1f9f8cb944bc4d1b9a3dc9ea50275bae",
            "da1b2e181e6c4f609c34d013117bc5f8",
            "61ef35e7caea4c6ea19f202df9187e89",
            "d8531680f74f45c1b3e72295eb520263",
            "3bb2e873ada643648df233796c79f0d4",
            "ef7fb1ee89a54a52a43fa7b5fcd3b507",
            "b6231d7583c6432d8773e643d0af55ec",
            "227897a682d24f62b69308dc1a8d99fd",
            "8d742238fc0141aa89cba09e3b53aba0",
            "bacad9d4fee64235a4adce7c842da8ea",
            "c8d2224558f24415bca38d4feb2d1107",
            "6921bbd9ec14487997f1cf81026d44b1",
            "1bc7e0297c5f412fbf630aa2cfa99d7d",
            "247ff795ed0741cabd829aa2369b60a6",
            "5e4078c9837c4431b94e1ab4bf936e74",
            "cec3eba1a9bf461eae2a5a02b986d97e",
            "2c50fe30e4c143d1afef7196267957a2"
          ]
        },
        "outputId": "4966b7c7-ffce-4ea1-82e5-67ab3b4a720d"
      },
      "source": [
        "mnist_train = datasets.MNIST(\"../data\", train=True, download=True, transform=ToTensor())\n",
        "mnist_test  = datasets.MNIST(\"../data\", train=False,download=True, transform=ToTensor())\n",
        "traindataloader = DataLoader(mnist_train, shuffle=True, batch_size=60000)\n",
        "testdataloader  = DataLoader(mnist_test , shuffle=True, batch_size=10000)\n",
        "X_train, y_train = next(iter(traindataloader))\n",
        "X_test , y_test  = next(iter(testdataloader))\n",
        "\n",
        "X_train = X_train.reshape(60000, -1)\n",
        "X_test = X_test.reshape(10000, -1)\n",
        "\n",
        "device = \"cuda\" if torch.cuda.is_available() else \"cpu\""
      ],
      "execution_count": null,
      "outputs": [
        {
          "output_type": "stream",
          "text": [
            "Downloading http://yann.lecun.com/exdb/mnist/train-images-idx3-ubyte.gz\n",
            "Downloading http://yann.lecun.com/exdb/mnist/train-images-idx3-ubyte.gz to ../data/MNIST/raw/train-images-idx3-ubyte.gz\n"
          ],
          "name": "stdout"
        },
        {
          "output_type": "display_data",
          "data": {
            "application/vnd.jupyter.widget-view+json": {
              "model_id": "73de135371334303b74116712cbee197",
              "version_minor": 0,
              "version_major": 2
            },
            "text/plain": [
              "HBox(children=(FloatProgress(value=0.0, max=9912422.0), HTML(value='')))"
            ]
          },
          "metadata": {
            "tags": []
          }
        },
        {
          "output_type": "stream",
          "text": [
            "\n",
            "Extracting ../data/MNIST/raw/train-images-idx3-ubyte.gz to ../data/MNIST/raw\n",
            "\n",
            "Downloading http://yann.lecun.com/exdb/mnist/train-labels-idx1-ubyte.gz\n",
            "Downloading http://yann.lecun.com/exdb/mnist/train-labels-idx1-ubyte.gz to ../data/MNIST/raw/train-labels-idx1-ubyte.gz\n"
          ],
          "name": "stdout"
        },
        {
          "output_type": "display_data",
          "data": {
            "application/vnd.jupyter.widget-view+json": {
              "model_id": "9703f62585a84072bd46fb066401b266",
              "version_minor": 0,
              "version_major": 2
            },
            "text/plain": [
              "HBox(children=(FloatProgress(value=0.0, max=28881.0), HTML(value='')))"
            ]
          },
          "metadata": {
            "tags": []
          }
        },
        {
          "output_type": "stream",
          "text": [
            "\n",
            "Extracting ../data/MNIST/raw/train-labels-idx1-ubyte.gz to ../data/MNIST/raw\n",
            "\n",
            "Downloading http://yann.lecun.com/exdb/mnist/t10k-images-idx3-ubyte.gz\n",
            "Downloading http://yann.lecun.com/exdb/mnist/t10k-images-idx3-ubyte.gz to ../data/MNIST/raw/t10k-images-idx3-ubyte.gz\n",
            "Failed to download (trying next):\n",
            "HTTP Error 503: Service Unavailable\n",
            "\n",
            "Downloading https://ossci-datasets.s3.amazonaws.com/mnist/t10k-images-idx3-ubyte.gz\n",
            "Downloading https://ossci-datasets.s3.amazonaws.com/mnist/t10k-images-idx3-ubyte.gz to ../data/MNIST/raw/t10k-images-idx3-ubyte.gz\n"
          ],
          "name": "stdout"
        },
        {
          "output_type": "display_data",
          "data": {
            "application/vnd.jupyter.widget-view+json": {
              "model_id": "da1b2e181e6c4f609c34d013117bc5f8",
              "version_minor": 0,
              "version_major": 2
            },
            "text/plain": [
              "HBox(children=(FloatProgress(value=0.0, max=1648877.0), HTML(value='')))"
            ]
          },
          "metadata": {
            "tags": []
          }
        },
        {
          "output_type": "stream",
          "text": [
            "\n",
            "Extracting ../data/MNIST/raw/t10k-images-idx3-ubyte.gz to ../data/MNIST/raw\n",
            "\n",
            "Downloading http://yann.lecun.com/exdb/mnist/t10k-labels-idx1-ubyte.gz\n",
            "Downloading http://yann.lecun.com/exdb/mnist/t10k-labels-idx1-ubyte.gz to ../data/MNIST/raw/t10k-labels-idx1-ubyte.gz\n"
          ],
          "name": "stdout"
        },
        {
          "output_type": "display_data",
          "data": {
            "application/vnd.jupyter.widget-view+json": {
              "model_id": "bacad9d4fee64235a4adce7c842da8ea",
              "version_minor": 0,
              "version_major": 2
            },
            "text/plain": [
              "HBox(children=(FloatProgress(value=0.0, max=4542.0), HTML(value='')))"
            ]
          },
          "metadata": {
            "tags": []
          }
        },
        {
          "output_type": "stream",
          "text": [
            "\n",
            "Extracting ../data/MNIST/raw/t10k-labels-idx1-ubyte.gz to ../data/MNIST/raw\n",
            "\n"
          ],
          "name": "stdout"
        },
        {
          "output_type": "stream",
          "text": [
            "/usr/local/lib/python3.7/dist-packages/torchvision/datasets/mnist.py:498: UserWarning: The given NumPy array is not writeable, and PyTorch does not support non-writeable tensors. This means you can write to the underlying (supposedly non-writeable) NumPy array using the tensor. You may want to copy the array to protect its data or make it writeable before converting it to a tensor. This type of warning will be suppressed for the rest of this program. (Triggered internally at  /pytorch/torch/csrc/utils/tensor_numpy.cpp:180.)\n",
            "  return torch.from_numpy(parsed.astype(m[2], copy=False)).view(*s)\n"
          ],
          "name": "stderr"
        }
      ]
    },
    {
      "cell_type": "code",
      "metadata": {
        "id": "AJDDsAzIWpfk"
      },
      "source": [
        "# sepeate train data into (1) initial, (2) pool\n",
        "initial_idx = np.array([],dtype=int)\n",
        "for i in range(10):\n",
        "    idx = np.random.choice(np.where(y_train==i)[0], size=2, replace=False)\n",
        "    initial_idx = np.concatenate((initial_idx, idx))\n",
        "\n",
        "X_initial = X_train[initial_idx]\n",
        "y_initial = y_train[initial_idx]\n",
        "\n",
        "X_pool = np.delete(X_train, initial_idx, axis=0)\n",
        "y_pool = np.delete(y_train, initial_idx, axis=0)"
      ],
      "execution_count": null,
      "outputs": []
    },
    {
      "cell_type": "code",
      "metadata": {
        "colab": {
          "base_uri": "https://localhost:8080/"
        },
        "id": "b13bgV5sWZ86",
        "outputId": "5338ac3e-d6ae-4e57-aa46-b50879bece81"
      },
      "source": [
        "X_pool.shape"
      ],
      "execution_count": null,
      "outputs": [
        {
          "output_type": "execute_result",
          "data": {
            "text/plain": [
              "torch.Size([59990, 784])"
            ]
          },
          "metadata": {
            "tags": []
          },
          "execution_count": 29
        }
      ]
    },
    {
      "cell_type": "code",
      "metadata": {
        "id": "ueGHFnNHW8lH"
      },
      "source": [
        "# BALD Acquisition function (incomplete sampling in paper)\n",
        "def bald(model_A, model_S1, model_S2, X, n_instances, T = 100):\n",
        "  \n",
        "    random_subset = np.random.choice(range(len(X)), size=len(X), replace=False)\n",
        "    with torch.no_grad():\n",
        "        x = X[random_subset].to(device)\n",
        "        outputs = np.stack([torch.exp(model_A(x)).detach().cpu().numpy() for t in range(T)])\n",
        "\n",
        "    pc = outputs.mean(axis=0)\n",
        "    H   = (-pc*np.log(pc + 1e-10)).sum(axis=-1)\n",
        "    E_H = - np.mean(np.sum(outputs * np.log(outputs + 1e-10), axis=-1), axis=0) \n",
        "    acquisition = H - E_H\n",
        "    idx = (-acquisition).argsort()[:n_instances]\n",
        "    query_idx = random_subset[idx]\n",
        "\n",
        "    score_A = acquisition[query_idx]\n",
        "    \n",
        "    #---------------- score for successors:\n",
        "    with torch.no_grad():\n",
        "        output_S1 = np.stack([torch.exp(model_S1(X[query_idx].to(device))).detach().cpu().numpy() for t in range(T)])\n",
        "        output_S2 = np.stack([torch.exp(model_S2(X[query_idx].to(device))).detach().cpu().numpy() for t in range(T)])\n",
        "\n",
        "    pc = output_S1.mean(axis=0)\n",
        "    H   = (-pc*np.log(pc + 1e-10)).sum(axis=-1)\n",
        "    E_H = - np.mean(np.sum(output_S1 * np.log(output_S1 + 1e-10), axis=-1), axis=0) \n",
        "    score_S1 = H - E_H\n",
        "\n",
        "    pc = output_S2.mean(axis=0)\n",
        "    H   = (-pc*np.log(pc + 1e-10)).sum(axis=-1)\n",
        "    E_H = - np.mean(np.sum(output_S2 * np.log(output_S2 + 1e-10), axis=-1), axis=0) \n",
        "    score_S2 = H - E_H\n",
        "\n",
        "    return (query_idx, score_A, score_S1, score_S2) "
      ],
      "execution_count": null,
      "outputs": []
    },
    {
      "cell_type": "code",
      "metadata": {
        "id": "qqpHId4kpXS0"
      },
      "source": [
        "# BALD Acquisition function (in use)\n",
        "def bald(model_A, model_S1, model_S2, X, n_instances, T = 100):\n",
        "  \n",
        "    with torch.no_grad():\n",
        "        x = X.to(device)\n",
        "        outputs = np.stack([torch.exp(model_A(x)).detach().cpu().numpy() for t in range(T)])\n",
        "\n",
        "    pc = outputs.mean(axis=0)\n",
        "    H   = (-pc*np.log(pc + 1e-10)).sum(axis=-1)\n",
        "    E_H = - np.mean(np.sum(outputs * np.log(outputs + 1e-10), axis=-1), axis=0) \n",
        "    acquisition = H - E_H\n",
        "    query_idx = (-acquisition).argsort()[:n_instances]\n",
        "\n",
        "    score_A = acquisition[query_idx]\n",
        "    \n",
        "    #---------------- score for successors:\n",
        "    with torch.no_grad():\n",
        "        output_S1 = np.stack([torch.exp(model_S1(X[query_idx].to(device))).detach().cpu().numpy() for t in range(T)])\n",
        "        output_S2 = np.stack([torch.exp(model_S2(X[query_idx].to(device))).detach().cpu().numpy() for t in range(T)])\n",
        "\n",
        "    pc = output_S1.mean(axis=0)\n",
        "    H   = (-pc*np.log(pc + 1e-10)).sum(axis=-1)\n",
        "    E_H = - np.mean(np.sum(output_S1 * np.log(output_S1 + 1e-10), axis=-1), axis=0) \n",
        "    score_S1 = H - E_H\n",
        "\n",
        "    pc = output_S2.mean(axis=0)\n",
        "    H   = (-pc*np.log(pc + 1e-10)).sum(axis=-1)\n",
        "    E_H = - np.mean(np.sum(output_S2 * np.log(output_S2 + 1e-10), axis=-1), axis=0) \n",
        "    score_S2 = H - E_H\n",
        "\n",
        "    return (query_idx, score_A, score_S1, score_S2) "
      ],
      "execution_count": null,
      "outputs": []
    },
    {
      "cell_type": "code",
      "metadata": {
        "id": "FT5L2GeRrKW0"
      },
      "source": [
        "# IID acquistion:\n",
        "def iid_acq(model_A, model_S1, model_S2, X, n_instances, T = 100):\n",
        "    \n",
        "    query_idx = np.random.choice(range(len(X)), size=n_instances, replace=False)\n",
        "    with torch.no_grad():\n",
        "        x = X[query_idx].to(device)\n",
        "        outputs = np.stack([torch.exp(model_A(x)).detach().cpu().numpy() for t in range(T)])\n",
        "        output_S1 = np.stack([torch.exp(model_S1(x)).detach().cpu().numpy() for t in range(T)])\n",
        "        output_S2 = np.stack([torch.exp(model_S2(x)).detach().cpu().numpy() for t in range(T)])\n",
        "\n",
        "    pc = outputs.mean(axis=0)\n",
        "    H   = (-pc*np.log(pc + 1e-10)).sum(axis=-1)\n",
        "    E_H = - np.mean(np.sum(outputs * np.log(outputs + 1e-10), axis=-1), axis=0) \n",
        "    score_A = H - E_H\n",
        "    \n",
        "    #---------------- score for the other 2 models:\n",
        "    pc = output_S1.mean(axis=0)\n",
        "    H   = (-pc*np.log(pc + 1e-10)).sum(axis=-1)\n",
        "    E_H = - np.mean(np.sum(output_S1 * np.log(output_S1 + 1e-10), axis=-1), axis=0) \n",
        "    score_S1 = H - E_H\n",
        "\n",
        "    pc = output_S2.mean(axis=0)\n",
        "    H   = (-pc*np.log(pc + 1e-10)).sum(axis=-1)\n",
        "    E_H = - np.mean(np.sum(output_S2 * np.log(output_S2 + 1e-10), axis=-1), axis=0) \n",
        "    score_S2 = H - E_H\n",
        "\n",
        "    return (query_idx, score_A, score_S1, score_S2) "
      ],
      "execution_count": null,
      "outputs": []
    },
    {
      "cell_type": "code",
      "metadata": {
        "id": "rgnC6nsEamBZ"
      },
      "source": [
        "def active_learning_procedure(X_test,\n",
        "                              y_test,\n",
        "                              X_pool,\n",
        "                              y_pool,\n",
        "                              X_initial,\n",
        "                              y_initial,\n",
        "                              n_queries=100, \n",
        "                              n_instances=1,\n",
        "                              sample_strategy = 'bald',\n",
        "                              Model_A = 1,\n",
        "                              Model_S1 = 2,\n",
        "                              Model_S2 = 3):\n",
        "\n",
        "    pool_idx = list()\n",
        "    x_train_sample = X_initial\n",
        "    y_train_sample = y_initial\n",
        "\n",
        "    valid_idx = np.random.randint(0, len(y_pool), 1000)\n",
        "    x_valid = X_pool[valid_idx]\n",
        "    y_valid = y_pool[valid_idx]\n",
        "\n",
        "    #----- Model A --------------------------\n",
        "    if (Model_A==1):\n",
        "        A = Model1(784, 10, data_num = len(x_train_sample)).to(device)\n",
        "    elif (Model_A ==2 ):\n",
        "        A = Model2(784, 392, 10, data_num = len(x_train_sample)).to(device)\n",
        "    elif (Model_A == 3):\n",
        "        A = Model3(784, [392, 196], 10, data_num = len(x_train_sample)).to(device)\n",
        "    else:\n",
        "        print('Invalid option for Model_A')\n",
        "        return\n",
        "    optim0 = torch.optim.Adam(A.parameters(), lr=0.001)\n",
        "    _, _ = train(A, optim0, 1000, x_train_sample, y_train_sample,\n",
        "                 x_valid, y_valid, verbose = False)\n",
        "    acquisition_hist  = [eval_acc(A, X_test, y_test)]\n",
        "\n",
        "\n",
        "    #----- Model S --------------------------\n",
        "    if (Model_S1 == 1):\n",
        "        S1 = Model1(784, 10, data_num = len(x_train_sample)).to(device)\n",
        "    elif (Model_S1 ==2):\n",
        "        S1 = Model2(784, 392, 10, data_num = len(x_train_sample)).to(device)\n",
        "    else:\n",
        "        print('Invalid option for Model_S1')\n",
        "        return\n",
        "    optim1 = torch.optim.Adam(S1.parameters(), lr=0.001)\n",
        "    _, _ = train(S1, optim1, 1000, x_train_sample, y_train_sample,\n",
        "                 x_valid, y_valid, verbose = False)\n",
        "    successor1_hist = [eval_acc(S1, X_test, y_test)]\n",
        "\n",
        "    if (Model_S2 == 1):\n",
        "        S2 = Model1(784, 10, data_num = len(x_train_sample)).to(device)\n",
        "    elif (Model_S2 ==3):\n",
        "        S2 = Model3(784, [392, 196], 10, data_num = len(x_train_sample)).to(device)\n",
        "    else:\n",
        "        print('Invalid option for Model_A')\n",
        "        return   \n",
        "    optim2 = torch.optim.Adam(S2.parameters(), lr=0.001)\n",
        "    _, _ = train(S2, optim2, 1000, x_train_sample, y_train_sample,\n",
        "                 x_valid, y_valid, verbose = False)\n",
        "    successor2_hist = [eval_acc(S2, X_test, y_test)]\n",
        "\n",
        "    scores = list()\n",
        "\n",
        "    for index in range(n_queries):\n",
        "        # for incomplete sampling (paper):\n",
        "        #query_idx = np.concatenate([bald(A, X_pool) for n in range(n_instances)])\n",
        "\n",
        "        # for complete set sampling:\n",
        "        if (sample_strategy  == 'bald'):\n",
        "            query_idx, score_A, score_S1, score_S2 = bald(A, S1, S2, X_pool, n_instances)\n",
        "        elif (sample_strategy == 'iid'):\n",
        "            query_idx, score_A, score_S1, score_S2 = iid_acq(A, S1, S2, X_pool, n_instances)\n",
        "        else:\n",
        "            print('Unexpected sampling strategy')\n",
        "            return\n",
        "        \n",
        "        # record scores:\n",
        "        scores.append(np.vstack((score_A, score_S1, score_S2)))\n",
        "\n",
        "        x_train_sample = torch.vstack((x_train_sample, X_pool[query_idx]))\n",
        "        y_train_sample = torch.cat((y_train_sample,y_pool[query_idx]))\n",
        "\n",
        "        valid_idx = np.random.randint(0, len(y_pool), 1000)\n",
        "        x_valid = X_pool[valid_idx]\n",
        "        y_valid = y_pool[valid_idx]\n",
        "\n",
        "        # model A:\n",
        "        if (Model_A==1):\n",
        "            A = Model1(784, 10, data_num = len(x_train_sample)).to(device)\n",
        "        elif (Model_A ==2 ):\n",
        "            A = Model2(784, 392, 10, data_num = len(x_train_sample)).to(device)\n",
        "        elif (Model_A == 3):\n",
        "            A = Model3(784, [392, 196], 10, data_num = len(x_train_sample)).to(device)\n",
        "        else:\n",
        "            print('Invalid option for Model_A')\n",
        "            return\n",
        "        optim0 = torch.optim.Adam(A.parameters(), lr=0.001)\n",
        "        _, _ = train(A, optim0, 1000, x_train_sample, y_train_sample,\n",
        "                     x_valid, y_valid, verbose = False)\n",
        "        acquisition_hist.append(eval_acc(A, X_test, y_test))\n",
        "\n",
        "        # model S:\n",
        "        if (Model_S1 == 1):\n",
        "            S1 = Model1(784, 10, data_num = len(x_train_sample)).to(device)\n",
        "        elif (Model_S1 ==2):\n",
        "            S1 = Model2(784, 392, 10, data_num = len(x_train_sample)).to(device)\n",
        "        else:\n",
        "            print('Invalid option for Model_S1')\n",
        "            return   \n",
        "        optim1 = torch.optim.Adam(S1.parameters(), lr=0.001)\n",
        "        _, _ = train(S1, optim1, 1000, x_train_sample, y_train_sample,\n",
        "                    x_valid, y_valid, verbose = False)\n",
        "        successor1_hist.append(eval_acc(S1, X_test, y_test))\n",
        "\n",
        "        if (Model_S2 == 1):\n",
        "            S2 = Model1(784, 10, data_num = len(x_train_sample)).to(device)\n",
        "        elif (Model_S2 ==3):\n",
        "            S2 = Model3(784, [392, 196], 10, data_num = len(x_train_sample)).to(device)\n",
        "        else:\n",
        "            print('Invalid option for Model_S2')\n",
        "            return \n",
        "        optim2 = torch.optim.Adam(S2.parameters(), lr=0.001)\n",
        "        _, _ = train(S2, optim2, 1000, x_train_sample, y_train_sample,\n",
        "                    x_valid, y_valid, verbose = False)\n",
        "        successor2_hist.append(eval_acc(S2, X_test, y_test))\n",
        "\n",
        "        \n",
        "        # delete queried data from pool:\n",
        "        X_pool = np.delete(X_pool, query_idx, axis=0)\n",
        "        y_pool = np.delete(y_pool, query_idx, axis=0)\n",
        "\n",
        "        print('Query {n}: {acc:0.4f}(Model A)    |     {acc_s1:0.4f}(Model S1) - {acc_s2:0.4f}(Model S2) '.format(n=index + 1, \n",
        "                                                                                                                  acc=acquisition_hist[-1], \n",
        "                                                                                                                  acc_s1 = successor1_hist[-1], \n",
        "                                                                                                                  acc_s2 = successor2_hist[-1]))     \n",
        "        pool_idx.append(query_idx)\n",
        "    return(acquisition_hist, successor1_hist, successor2_hist, scores, pool_idx)"
      ],
      "execution_count": null,
      "outputs": []
    },
    {
      "cell_type": "code",
      "metadata": {
        "id": "P01kRIEGdQvs"
      },
      "source": [
        "class LinearVariational(nn.Module):\n",
        "    def __init__(self, in_features, out_features, loss_accumulator, data_num, bias=True):\n",
        "        super().__init__()\n",
        "        self.in_features = in_features\n",
        "        self.out_features = out_features\n",
        "        self.include_bias = bias        \n",
        "        self.loss_accumulator = loss_accumulator\n",
        "        self.data_num = data_num\n",
        "        \n",
        "        if getattr(loss_accumulator, 'accumulated_kl_div', None) is None:\n",
        "            loss_accumulator.accumulated_kl_div = 0\n",
        "\n",
        "        self.w_mu = nn.Parameter(\n",
        "            torch.FloatTensor(in_features, out_features).normal_(mean=0, std=0.001)\n",
        "        )\n",
        "        # proxy for variance\n",
        "        # log(1 + exp(ρ))◦ eps\n",
        "        self.w_p = nn.Parameter(\n",
        "            torch.FloatTensor(in_features, out_features).normal_(mean=-2.5, std=0.001)\n",
        "        )\n",
        "        if self.include_bias:\n",
        "            self.b_mu = nn.Parameter(\n",
        "                torch.zeros(out_features)\n",
        "            )\n",
        "            self.b_p = nn.Parameter(\n",
        "                torch.zeros(out_features)\n",
        "            )\n",
        "        \n",
        "    def reparameterize(self, mu, p):\n",
        "        sigma = torch.log(1 + torch.exp(p)) \n",
        "        eps = torch.randn_like(sigma)\n",
        "        return mu + (eps * sigma)\n",
        "    \n",
        "    def kl_divergence(self, z, mu_theta, p_theta, batch_size, prior_sd=1):\n",
        "        log_prior = distributions.Normal(0, prior_sd).log_prob(z) \n",
        "        log_p_q = distributions.Normal(mu_theta, torch.log(1 + torch.exp(p_theta))).log_prob(z) \n",
        "        return (log_p_q - log_prior).mean() * ( batch_size/self.data_num)\n",
        "\n",
        "    def forward(self, x):\n",
        "        w = self.reparameterize(self.w_mu, self.w_p)\n",
        "        \n",
        "        if self.include_bias:\n",
        "            b = self.reparameterize(self.b_mu, self.b_p)\n",
        "        else:\n",
        "            b = 0\n",
        "            \n",
        "        z = x @ w + b\n",
        "        \n",
        "        self.loss_accumulator.accumulated_kl_div += self.kl_divergence(w, \n",
        "                                                             self.w_mu,\n",
        "                                                             self.w_p,\n",
        "                                                             len(x)\n",
        "                                                             )\n",
        "        if self.include_bias:\n",
        "            self.loss_accumulator.accumulated_kl_div += self.kl_divergence(b, \n",
        "                                                                 self.b_mu, \n",
        "                                                                 self.b_p,\n",
        "                                                                 len(x)\n",
        "                                                                 )\n",
        "        return z\n",
        "\n",
        "\n",
        "@dataclass\n",
        "class KL:\n",
        "    accumulated_kl_div = 0\n",
        "\n",
        "def det_loss(y, y_pred, model):\n",
        "    reconstruction_error = F.nll_loss(y_pred, y,reduction=\"mean\")\n",
        "    kl = model.accumulated_kl_div\n",
        "    model.reset_kl_div()\n",
        "    return reconstruction_error + kl\n",
        "\n"
      ],
      "execution_count": null,
      "outputs": []
    },
    {
      "cell_type": "code",
      "metadata": {
        "id": "qf0y3IYxtkIk"
      },
      "source": [
        "class Model1(nn.Module):\n",
        "    def __init__(self, in_size, out_size, data_num):\n",
        "        super().__init__()\n",
        "        self.kl_loss = KL\n",
        "        \n",
        "        self.layers = nn.Sequential(\n",
        "            LinearVariational(in_size, out_size, self.kl_loss, data_num),\n",
        "            nn.LogSoftmax(dim = 1)\n",
        "        )\n",
        "    \n",
        "    @property\n",
        "    def accumulated_kl_div(self):\n",
        "        return self.kl_loss.accumulated_kl_div\n",
        "    \n",
        "    def reset_kl_div(self):\n",
        "        self.kl_loss.accumulated_kl_div = 0\n",
        "            \n",
        "    def forward(self, x):\n",
        "       # x = x.view(-1, 784)\n",
        "        return self.layers(x)\n",
        "\n",
        "class Model2(nn.Module):\n",
        "    def __init__(self, in_size, hidden_size, out_size, data_num):\n",
        "        super().__init__()\n",
        "        self.kl_loss = KL\n",
        "        \n",
        "        self.layers = nn.Sequential(\n",
        "            LinearVariational(in_size, hidden_size, self.kl_loss, data_num),\n",
        "            nn.ReLU(),\n",
        "            LinearVariational(hidden_size, out_size, self.kl_loss, data_num),\n",
        "            nn.LogSoftmax(dim = 1)\n",
        "        )\n",
        "    \n",
        "    @property\n",
        "    def accumulated_kl_div(self):\n",
        "        return self.kl_loss.accumulated_kl_div\n",
        "    \n",
        "    def reset_kl_div(self):\n",
        "        self.kl_loss.accumulated_kl_div = 0\n",
        "            \n",
        "    def forward(self, x):\n",
        "       # x = x.view(-1, 784)\n",
        "        return self.layers(x)\n",
        "\n",
        "class Model3(nn.Module):\n",
        "    def __init__(self, in_size, hidden_size, out_size, data_num):\n",
        "        super().__init__()\n",
        "        self.kl_loss = KL\n",
        "        \n",
        "        self.layers = nn.Sequential(\n",
        "            LinearVariational(in_size, hidden_size[0], self.kl_loss, data_num),\n",
        "            nn.ReLU(),\n",
        "            LinearVariational(hidden_size[0], hidden_size[1], self.kl_loss, data_num),\n",
        "            nn.ReLU(),\n",
        "            LinearVariational(hidden_size[1], out_size, self.kl_loss, data_num),\n",
        "            nn.LogSoftmax(dim = 1)\n",
        "        )\n",
        "    \n",
        "    @property\n",
        "    def accumulated_kl_div(self):\n",
        "        return self.kl_loss.accumulated_kl_div\n",
        "    \n",
        "    def reset_kl_div(self):\n",
        "        self.kl_loss.accumulated_kl_div = 0\n",
        "            \n",
        "    def forward(self, x):\n",
        "       # x = x.view(-1, 784)\n",
        "        return self.layers(x)"
      ],
      "execution_count": null,
      "outputs": []
    },
    {
      "cell_type": "code",
      "metadata": {
        "id": "W_FbZCJ0Bd-E"
      },
      "source": [
        "# Train\n",
        "def train(model, optimizer, num_epoch, X_initial, y_initial, \n",
        "                                                 X_valid, y_valid, verbose = False):\n",
        "    train_ls = list()\n",
        "    valid_ls = list()\n",
        "    train_kl = list()\n",
        "    valid_kl = list()\n",
        "    \n",
        "    valid_loader = DataLoader(list(zip(X_valid,  y_valid)), \n",
        "                      shuffle=True, batch_size = len(X_valid))\n",
        "    train_loader = DataLoader(list(zip(X_initial,  y_initial)), \n",
        "                      shuffle=True, batch_size = 10)\n",
        "\n",
        "    for epoch in range(num_epoch):\n",
        "        ls = 0\n",
        "        acc_kl = 0\n",
        "        num_correct = 0\n",
        "        data_num = 0\n",
        "\n",
        "        model.train()\n",
        "        for bs_num, (x, y) in enumerate(train_loader):\n",
        "\n",
        "            x = x.to(device)\n",
        "            y = y.to(device)\n",
        "\n",
        "            # forward:\n",
        "            y_pred = model(x)\n",
        "            loss = det_loss(y, y_pred, model)\n",
        "            ls += loss.item()\n",
        "            print(model.accumulated_kl_div)\n",
        "            acc_kl += model.accumulated_kl_div\n",
        "            model.reset_kl_div()\n",
        "\n",
        "\n",
        "            # backward:\n",
        "            optimizer.zero_grad() # remove grad from forward prop\n",
        "            loss.backward()\n",
        "\n",
        "            # update gradient:\n",
        "            optimizer.step()\n",
        "\n",
        "            # accuracy:\n",
        "            #_, pred = torch.max(y_pred,1)\n",
        "            #num_correct += (pred == y).sum().item()\n",
        "\n",
        "            data_num += len(y)\n",
        "\n",
        "        train_kl.append(acc_kl)\n",
        "\n",
        "        ls = ls/data_num\n",
        "        val_ls = eval_ls(model, valid_loader)\n",
        "        if verbose:\n",
        "            print(epoch+1)\n",
        "            print(f'\\tLoss: {ls:.4f}(train)\\t|\\tLoss: {val_ls:.4f}(valid)')\n",
        "        train_ls.append(ls)\n",
        "        valid_ls.append(val_ls)\n",
        "\n",
        "        # access early stopping:\n",
        "        trigger = (np.array(train_ls[epoch-50:]) < np.array(valid_ls[epoch-50:])).sum()/50\n",
        "        if (trigger > 0.5):\n",
        "            if verbose:\n",
        "                print('Epoch {} : Early Stopping - past 50 epochs half val_ls > train_ls'.format(epoch))\n",
        "            break\n",
        "        \n",
        "\n",
        "    return(train_ls, valid_ls)\n",
        "\n",
        "\n",
        "def eval_ls(model, loader):\n",
        "    ls = 0\n",
        "    data_num = 0\n",
        "\n",
        "    model.eval()\n",
        "    with torch.no_grad():\n",
        "        for x, y in loader:\n",
        "            x = x.to(device)\n",
        "            y = y.to(device)\n",
        "\n",
        "            y_pred = model(x)\n",
        "            loss = det_loss(y, y_pred, model)\n",
        "            ls += loss.item()\n",
        "\n",
        "            data_num += len(y)\n",
        "\n",
        "    model.train()\n",
        "    return ls/data_num\n",
        "\n",
        "def eval_acc(model, test_x, test_y):\n",
        "    y_sample = np.stack([torch.exp(model(test_x.to(device))).detach().cpu().numpy() for t in range(100)])\n",
        "    y_pred = y_sample.mean(axis = 0).argmax(axis = 1)\n",
        "\n",
        "    #y_sample = model(test_x.to(device)).detach().cpu().numpy()\n",
        "    #y_pred = y_sample.argmax(axis = 1)\n",
        "    acc = np.equal(y_pred, test_y).sum().item()/len(test_y)\n",
        "    \n",
        "    return acc\n",
        "\n"
      ],
      "execution_count": null,
      "outputs": []
    },
    {
      "cell_type": "code",
      "metadata": {
        "id": "7oHFz6dSkRUW"
      },
      "source": [
        "train_loader = DataLoader(list(zip(X_initial,  y_initial)), \n",
        "                      shuffle=True, batch_size = 10)\n",
        "valid_loader = DataLoader(list(zip(X_pool[:1000],  y_pool[:1000])), \n",
        "                      shuffle=False, batch_size = 1000)"
      ],
      "execution_count": null,
      "outputs": []
    },
    {
      "cell_type": "code",
      "metadata": {
        "id": "QKAUwxztWZ9E"
      },
      "source": [
        "train_x = np.vstack((X_initial, X_train[:30]))\n",
        "train_y = np.hstack((y_initial, y_train[:30]))\n"
      ],
      "execution_count": null,
      "outputs": []
    },
    {
      "cell_type": "code",
      "metadata": {
        "colab": {
          "base_uri": "https://localhost:8080/"
        },
        "id": "Bg6bk9_SWZ9F",
        "outputId": "a11155a6-936c-4668-d728-ede17669d156"
      },
      "source": [
        "len(train_x)"
      ],
      "execution_count": null,
      "outputs": [
        {
          "output_type": "execute_result",
          "data": {
            "text/plain": [
              "15"
            ]
          },
          "metadata": {
            "tags": []
          },
          "execution_count": 77
        }
      ]
    },
    {
      "cell_type": "code",
      "metadata": {
        "id": "NiD0UIk2j4RG",
        "colab": {
          "base_uri": "https://localhost:8080/"
        },
        "outputId": "eb5460a5-3880-4ead-8bd8-75981f78c3e0"
      },
      "source": [
        "\n",
        "for i in range(11):\n",
        "  train_x = np.vstack((X_initial, X_train[:i*10]))\n",
        "  train_y = np.hstack((y_initial, y_train[:i*10]))\n",
        "  m = Model3(784, [392, 196], 10, data_num = len(train_x)).to(device)\n",
        "  optim = torch.optim.Adam(m.parameters(), lr=0.001)\n",
        "  train_ls, valid_ls = train(m, optim, 1000, \n",
        "                              train_x, train_y, \n",
        "                              X_pool, y_pool,\n",
        "                              verbose = False)\n",
        "  y_sample = np.stack([torch.exp(m(X_pool[1000:10000].to(device))).detach().cpu().numpy() for t in range(100)])\n",
        "  y_pred = y_sample.mean(axis = 0).argmax(axis = 1)\n",
        "  acc = np.equal(y_pred, y_pool[1000:10000]).sum().item()/9000\n",
        "  print('data size {}:  acc {}'.format(len(train_x), acc))"
      ],
      "execution_count": null,
      "outputs": [
        {
          "output_type": "stream",
          "text": [
            "Epoch 656 : Early Stopping - past 50 epochs half val_ls > train_ls\n",
            "data size 10:  acc 0.4047777777777778\n",
            "Epoch 453 : Early Stopping - past 50 epochs half val_ls > train_ls\n",
            "data size 20:  acc 0.5053333333333333\n",
            "Epoch 413 : Early Stopping - past 50 epochs half val_ls > train_ls\n",
            "data size 30:  acc 0.5247777777777778\n",
            "Epoch 337 : Early Stopping - past 50 epochs half val_ls > train_ls\n",
            "data size 40:  acc 0.5776666666666667\n",
            "Epoch 315 : Early Stopping - past 50 epochs half val_ls > train_ls\n",
            "data size 50:  acc 0.6297777777777778\n",
            "Epoch 309 : Early Stopping - past 50 epochs half val_ls > train_ls\n",
            "data size 60:  acc 0.6406666666666667\n",
            "Epoch 237 : Early Stopping - past 50 epochs half val_ls > train_ls\n",
            "data size 70:  acc 0.6781111111111111\n",
            "Epoch 231 : Early Stopping - past 50 epochs half val_ls > train_ls\n",
            "data size 80:  acc 0.6842222222222222\n",
            "Epoch 224 : Early Stopping - past 50 epochs half val_ls > train_ls\n",
            "data size 90:  acc 0.7185555555555555\n",
            "Epoch 206 : Early Stopping - past 50 epochs half val_ls > train_ls\n",
            "data size 100:  acc 0.7276666666666667\n",
            "Epoch 219 : Early Stopping - past 50 epochs half val_ls > train_ls\n",
            "data size 110:  acc 0.7447777777777778\n"
          ],
          "name": "stdout"
        }
      ]
    },
    {
      "cell_type": "code",
      "metadata": {
        "colab": {
          "base_uri": "https://localhost:8080/"
        },
        "id": "L62I2AiRWZ9G",
        "outputId": "15ae5716-ca34-409d-9e6a-78fe884e24f5"
      },
      "source": [
        "for i in range(11):\n",
        "  train_x = np.vstack((X_initial, X_train[:i*10]))\n",
        "  train_y = np.hstack((y_initial, y_train[:i*10]))\n",
        "  m = Model2(784, 392, 10, data_num = len(train_x)).to(device)\n",
        "  optim = torch.optim.Adam(m.parameters(), lr=0.001)\n",
        "  train_ls, valid_ls = train(m, optim, 1000, \n",
        "                              train_x, train_y, \n",
        "                              X_pool, y_pool,\n",
        "                              verbose = False)\n",
        "  y_sample = np.stack([torch.exp(m(X_pool[1000:10000].to(device))).detach().cpu().numpy() for t in range(100)])\n",
        "  y_pred = y_sample.mean(axis = 0).argmax(axis = 1)\n",
        "  acc = np.equal(y_pred, y_pool[1000:10000]).sum().item()/9000\n",
        "  print('data size {}:  acc {}'.format(len(train_x), acc))"
      ],
      "execution_count": null,
      "outputs": [
        {
          "output_type": "stream",
          "text": [
            "Epoch 377 : Early Stopping - past 50 epochs half val_ls > train_ls\n",
            "data size 10:  acc 0.41433333333333333\n",
            "Epoch 261 : Early Stopping - past 50 epochs half val_ls > train_ls\n",
            "data size 20:  acc 0.5242222222222223\n",
            "Epoch 243 : Early Stopping - past 50 epochs half val_ls > train_ls\n",
            "data size 30:  acc 0.5465555555555556\n",
            "Epoch 229 : Early Stopping - past 50 epochs half val_ls > train_ls\n",
            "data size 40:  acc 0.563\n",
            "Epoch 220 : Early Stopping - past 50 epochs half val_ls > train_ls\n",
            "data size 50:  acc 0.682\n",
            "Epoch 222 : Early Stopping - past 50 epochs half val_ls > train_ls\n",
            "data size 60:  acc 0.6945555555555556\n",
            "Epoch 195 : Early Stopping - past 50 epochs half val_ls > train_ls\n",
            "data size 70:  acc 0.6885555555555556\n",
            "Epoch 183 : Early Stopping - past 50 epochs half val_ls > train_ls\n",
            "data size 80:  acc 0.7077777777777777\n",
            "Epoch 191 : Early Stopping - past 50 epochs half val_ls > train_ls\n",
            "data size 90:  acc 0.738\n",
            "Epoch 191 : Early Stopping - past 50 epochs half val_ls > train_ls\n",
            "data size 100:  acc 0.7467777777777778\n",
            "Epoch 170 : Early Stopping - past 50 epochs half val_ls > train_ls\n",
            "data size 110:  acc 0.761\n"
          ],
          "name": "stdout"
        }
      ]
    },
    {
      "cell_type": "code",
      "metadata": {
        "colab": {
          "base_uri": "https://localhost:8080/",
          "height": 378
        },
        "id": "MDcqJuW5gPo3",
        "outputId": "c291d496-a15e-4176-ecbf-4bedc6e9ecbe"
      },
      "source": [
        "for i in range(11):\n",
        "  train_x = np.vstack((X_initial, X_train[:i*10]))\n",
        "  train_y = np.hstack((y_initial, y_train[:i*10]))\n",
        "  m = Model1(784, 10, data_num = len(train_x)).to(device)\n",
        "  optim = torch.optim.Adam(m.parameters(), lr=0.001)\n",
        "  train_ls, valid_ls = train(m, optim, 1000, \n",
        "                              train_x, train_y, \n",
        "                              X_pool, y_pool,\n",
        "                              verbose = False)\n",
        "  y_sample = np.stack([torch.exp(m(X_pool[1000:10000].to(device))).detach().cpu().numpy() for t in range(100)])\n",
        "  y_pred = y_sample.mean(axis = 0).argmax(axis = 1)\n",
        "  acc = np.equal(y_pred, y_pool[1000:10000]).sum().item()/9000\n",
        "  print('data size {}:  acc {}'.format(len(train_x), acc))"
      ],
      "execution_count": null,
      "outputs": [
        {
          "output_type": "error",
          "ename": "KeyboardInterrupt",
          "evalue": "ignored",
          "traceback": [
            "\u001b[0;31m---------------------------------------------------------------------------\u001b[0m",
            "\u001b[0;31mKeyboardInterrupt\u001b[0m                         Traceback (most recent call last)",
            "\u001b[0;32m<ipython-input-219-baa2c933f74f>\u001b[0m in \u001b[0;36m<module>\u001b[0;34m()\u001b[0m\n\u001b[1;32m      7\u001b[0m                               \u001b[0mtrain_x\u001b[0m\u001b[0;34m,\u001b[0m \u001b[0mtrain_y\u001b[0m\u001b[0;34m,\u001b[0m\u001b[0;34m\u001b[0m\u001b[0;34m\u001b[0m\u001b[0m\n\u001b[1;32m      8\u001b[0m                               \u001b[0mX_pool\u001b[0m\u001b[0;34m,\u001b[0m \u001b[0my_pool\u001b[0m\u001b[0;34m,\u001b[0m\u001b[0;34m\u001b[0m\u001b[0;34m\u001b[0m\u001b[0m\n\u001b[0;32m----> 9\u001b[0;31m                               verbose = False)\n\u001b[0m\u001b[1;32m     10\u001b[0m   \u001b[0my_sample\u001b[0m \u001b[0;34m=\u001b[0m \u001b[0mnp\u001b[0m\u001b[0;34m.\u001b[0m\u001b[0mstack\u001b[0m\u001b[0;34m(\u001b[0m\u001b[0;34m[\u001b[0m\u001b[0mtorch\u001b[0m\u001b[0;34m.\u001b[0m\u001b[0mexp\u001b[0m\u001b[0;34m(\u001b[0m\u001b[0mm\u001b[0m\u001b[0;34m(\u001b[0m\u001b[0mX_pool\u001b[0m\u001b[0;34m[\u001b[0m\u001b[0;36m1000\u001b[0m\u001b[0;34m:\u001b[0m\u001b[0;36m10000\u001b[0m\u001b[0;34m]\u001b[0m\u001b[0;34m.\u001b[0m\u001b[0mto\u001b[0m\u001b[0;34m(\u001b[0m\u001b[0mdevice\u001b[0m\u001b[0;34m)\u001b[0m\u001b[0;34m)\u001b[0m\u001b[0;34m)\u001b[0m\u001b[0;34m.\u001b[0m\u001b[0mdetach\u001b[0m\u001b[0;34m(\u001b[0m\u001b[0;34m)\u001b[0m\u001b[0;34m.\u001b[0m\u001b[0mcpu\u001b[0m\u001b[0;34m(\u001b[0m\u001b[0;34m)\u001b[0m\u001b[0;34m.\u001b[0m\u001b[0mnumpy\u001b[0m\u001b[0;34m(\u001b[0m\u001b[0;34m)\u001b[0m \u001b[0;32mfor\u001b[0m \u001b[0mt\u001b[0m \u001b[0;32min\u001b[0m \u001b[0mrange\u001b[0m\u001b[0;34m(\u001b[0m\u001b[0;36m100\u001b[0m\u001b[0;34m)\u001b[0m\u001b[0;34m]\u001b[0m\u001b[0;34m)\u001b[0m\u001b[0;34m\u001b[0m\u001b[0;34m\u001b[0m\u001b[0m\n\u001b[1;32m     11\u001b[0m   \u001b[0my_pred\u001b[0m \u001b[0;34m=\u001b[0m \u001b[0my_sample\u001b[0m\u001b[0;34m.\u001b[0m\u001b[0mmean\u001b[0m\u001b[0;34m(\u001b[0m\u001b[0maxis\u001b[0m \u001b[0;34m=\u001b[0m \u001b[0;36m0\u001b[0m\u001b[0;34m)\u001b[0m\u001b[0;34m.\u001b[0m\u001b[0margmax\u001b[0m\u001b[0;34m(\u001b[0m\u001b[0maxis\u001b[0m \u001b[0;34m=\u001b[0m \u001b[0;36m1\u001b[0m\u001b[0;34m)\u001b[0m\u001b[0;34m\u001b[0m\u001b[0;34m\u001b[0m\u001b[0m\n",
            "\u001b[0;32m<ipython-input-218-deae1a415eb0>\u001b[0m in \u001b[0;36mtrain\u001b[0;34m(model, optimizer, num_epoch, X_initial, y_initial, X_valid, y_valid, verbose)\u001b[0m\n\u001b[1;32m     28\u001b[0m             \u001b[0;31m# backward:\u001b[0m\u001b[0;34m\u001b[0m\u001b[0;34m\u001b[0m\u001b[0;34m\u001b[0m\u001b[0m\n\u001b[1;32m     29\u001b[0m             \u001b[0moptimizer\u001b[0m\u001b[0;34m.\u001b[0m\u001b[0mzero_grad\u001b[0m\u001b[0;34m(\u001b[0m\u001b[0;34m)\u001b[0m \u001b[0;31m# remove grad from forward prop\u001b[0m\u001b[0;34m\u001b[0m\u001b[0;34m\u001b[0m\u001b[0m\n\u001b[0;32m---> 30\u001b[0;31m             \u001b[0mloss\u001b[0m\u001b[0;34m.\u001b[0m\u001b[0mbackward\u001b[0m\u001b[0;34m(\u001b[0m\u001b[0;34m)\u001b[0m\u001b[0;34m\u001b[0m\u001b[0;34m\u001b[0m\u001b[0m\n\u001b[0m\u001b[1;32m     31\u001b[0m \u001b[0;34m\u001b[0m\u001b[0m\n\u001b[1;32m     32\u001b[0m             \u001b[0;31m# update gradient:\u001b[0m\u001b[0;34m\u001b[0m\u001b[0;34m\u001b[0m\u001b[0;34m\u001b[0m\u001b[0m\n",
            "\u001b[0;32m/usr/local/lib/python3.7/dist-packages/torch/tensor.py\u001b[0m in \u001b[0;36mbackward\u001b[0;34m(self, gradient, retain_graph, create_graph, inputs)\u001b[0m\n\u001b[1;32m    243\u001b[0m                 \u001b[0mcreate_graph\u001b[0m\u001b[0;34m=\u001b[0m\u001b[0mcreate_graph\u001b[0m\u001b[0;34m,\u001b[0m\u001b[0;34m\u001b[0m\u001b[0;34m\u001b[0m\u001b[0m\n\u001b[1;32m    244\u001b[0m                 inputs=inputs)\n\u001b[0;32m--> 245\u001b[0;31m         \u001b[0mtorch\u001b[0m\u001b[0;34m.\u001b[0m\u001b[0mautograd\u001b[0m\u001b[0;34m.\u001b[0m\u001b[0mbackward\u001b[0m\u001b[0;34m(\u001b[0m\u001b[0mself\u001b[0m\u001b[0;34m,\u001b[0m \u001b[0mgradient\u001b[0m\u001b[0;34m,\u001b[0m \u001b[0mretain_graph\u001b[0m\u001b[0;34m,\u001b[0m \u001b[0mcreate_graph\u001b[0m\u001b[0;34m,\u001b[0m \u001b[0minputs\u001b[0m\u001b[0;34m=\u001b[0m\u001b[0minputs\u001b[0m\u001b[0;34m)\u001b[0m\u001b[0;34m\u001b[0m\u001b[0;34m\u001b[0m\u001b[0m\n\u001b[0m\u001b[1;32m    246\u001b[0m \u001b[0;34m\u001b[0m\u001b[0m\n\u001b[1;32m    247\u001b[0m     \u001b[0;32mdef\u001b[0m \u001b[0mregister_hook\u001b[0m\u001b[0;34m(\u001b[0m\u001b[0mself\u001b[0m\u001b[0;34m,\u001b[0m \u001b[0mhook\u001b[0m\u001b[0;34m)\u001b[0m\u001b[0;34m:\u001b[0m\u001b[0;34m\u001b[0m\u001b[0;34m\u001b[0m\u001b[0m\n",
            "\u001b[0;32m/usr/local/lib/python3.7/dist-packages/torch/autograd/__init__.py\u001b[0m in \u001b[0;36mbackward\u001b[0;34m(tensors, grad_tensors, retain_graph, create_graph, grad_variables, inputs)\u001b[0m\n\u001b[1;32m    145\u001b[0m     Variable._execution_engine.run_backward(\n\u001b[1;32m    146\u001b[0m         \u001b[0mtensors\u001b[0m\u001b[0;34m,\u001b[0m \u001b[0mgrad_tensors_\u001b[0m\u001b[0;34m,\u001b[0m \u001b[0mretain_graph\u001b[0m\u001b[0;34m,\u001b[0m \u001b[0mcreate_graph\u001b[0m\u001b[0;34m,\u001b[0m \u001b[0minputs\u001b[0m\u001b[0;34m,\u001b[0m\u001b[0;34m\u001b[0m\u001b[0;34m\u001b[0m\u001b[0m\n\u001b[0;32m--> 147\u001b[0;31m         allow_unreachable=True, accumulate_grad=True)  # allow_unreachable flag\n\u001b[0m\u001b[1;32m    148\u001b[0m \u001b[0;34m\u001b[0m\u001b[0m\n\u001b[1;32m    149\u001b[0m \u001b[0;34m\u001b[0m\u001b[0m\n",
            "\u001b[0;31mKeyboardInterrupt\u001b[0m: "
          ]
        }
      ]
    },
    {
      "cell_type": "code",
      "metadata": {
        "id": "1bkEVQAVLv91"
      },
      "source": [
        "m = Model1(784, 10, data_num = len(train_x)).to(device)\n",
        "optim = torch.optim.Adam(m.parameters(), lr=0.001)\n",
        "train_ls, valid_ls = train(m, optim, 200, \n",
        "                              train_x, train_y, \n",
        "                              X_pool, y_pool,\n",
        "                              verbose = True)"
      ],
      "execution_count": null,
      "outputs": []
    },
    {
      "cell_type": "code",
      "metadata": {
        "colab": {
          "base_uri": "https://localhost:8080/"
        },
        "id": "bnt8_SekORaB",
        "outputId": "d006c875-386a-4e54-cbb5-7fd945fd15a2"
      },
      "source": [
        "y_sample = m(X_test.to(device)).detach().cpu().numpy()\n",
        "y_sample.argmax(axis = 1).shape"
      ],
      "execution_count": null,
      "outputs": [
        {
          "output_type": "execute_result",
          "data": {
            "text/plain": [
              "(10000,)"
            ]
          },
          "metadata": {
            "tags": []
          },
          "execution_count": 17
        }
      ]
    },
    {
      "cell_type": "code",
      "metadata": {
        "colab": {
          "base_uri": "https://localhost:8080/",
          "height": 314
        },
        "id": "W_LZCCB3dQvw",
        "outputId": "08669585-d350-438d-ab8e-3c7bb0648772"
      },
      "source": [
        "import matplotlib.pyplot as plt\n",
        "%matplotlib inline\n",
        "fig, axs = plt.subplots(1, 1, tight_layout=True, figsize = (20,4))\n",
        "\n",
        "epoch = 199\n",
        "axs.plot(range(epoch), train_ls[1:], label = 'train_ls')\n",
        "axs.plot(range(epoch), valid_ls[1:], label = 'valid_ls')\n",
        "axs.legend()\n",
        "\n"
      ],
      "execution_count": null,
      "outputs": [
        {
          "output_type": "execute_result",
          "data": {
            "text/plain": [
              "<matplotlib.legend.Legend at 0x7ff5d98a1510>"
            ]
          },
          "metadata": {
            "tags": []
          },
          "execution_count": 233
        },
        {
          "output_type": "display_data",
          "data": {
            "image/png": "[encoded data removed]",
            "text/plain": [
              "<Figure size 1440x288 with 1 Axes>"
            ]
          },
          "metadata": {
            "tags": [],
            "needs_background": "light"
          }
        }
      ]
    },
    {
      "cell_type": "code",
      "metadata": {
        "colab": {
          "base_uri": "https://localhost:8080/"
        },
        "id": "Rp9ExpFyZnVw",
        "outputId": "298c5710-03e4-4eba-cddd-db3aee51250b"
      },
      "source": [
        "(np.array(train_ls[510:560]) < np.array(valid_ls[510:560])).sum()"
      ],
      "execution_count": null,
      "outputs": [
        {
          "output_type": "execute_result",
          "data": {
            "text/plain": [
              "2"
            ]
          },
          "metadata": {
            "tags": []
          },
          "execution_count": 66
        }
      ]
    },
    {
      "cell_type": "code",
      "metadata": {
        "id": "m6fAuA_VWZ9I",
        "outputId": "761e37a3-1d06-42e1-d8af-5a3c82b13f69"
      },
      "source": [
        "fig, axs = plt.subplots(1, 2, tight_layout=True, figsize = (20,4))\n",
        "\n",
        "epoch = 49\n",
        "axs[0].plot(range(epoch+1), train_ls, label = 'train_ls')\n",
        "axs[0].plot(range(epoch+1), valid_ls, label = 'valid_ls')\n",
        "axs[0].legend()\n",
        "axs[1].plot(range(epoch+1), train_acc, label = 'train_acc')\n",
        "axs[1].plot(range(epoch+1), valid_acc, label = 'valid_acc')\n",
        "axs[1].legend()\n"
      ],
      "execution_count": null,
      "outputs": [
        {
          "output_type": "execute_result",
          "data": {
            "text/plain": [
              "<matplotlib.legend.Legend at 0x1268e1ff7c0>"
            ]
          },
          "metadata": {
            "tags": []
          },
          "execution_count": 11
        },
        {
          "output_type": "display_data",
          "data": {
            "image/png": "[encoded data removed]",
            "text/plain": [
              "<Figure size 1440x288 with 2 Axes>"
            ]
          },
          "metadata": {
            "tags": [],
            "needs_background": "light"
          }
        }
      ]
    },
    {
      "cell_type": "code",
      "metadata": {
        "colab": {
          "base_uri": "https://localhost:8080/",
          "height": 361
        },
        "id": "r4LGPvKryZ1k",
        "outputId": "aa75d67d-4638-4d7c-b97a-ecbf642e88f8"
      },
      "source": [
        "# A1 BALD\n",
        "acquisition_hist, successor1_hist, successor2_hist, scores, pool_idx = active_learning_procedure(\n",
        "                                                                                X_test,\n",
        "                                                                                y_test,\n",
        "                                                                                X_pool,\n",
        "                                                                                y_pool,\n",
        "                                                                                X_initial,\n",
        "                                                                                y_initial,\n",
        "                                                                                n_queries = 20,\n",
        "                                                                                n_instances = 5,\n",
        "                                                                                Model_A = 1, Model_S1 = 2, Model_S2 = 3)\n",
        "with open('res_bald_A1.npy', 'wb') as f:\n",
        "    np.save(f, acquisition_hist)\n",
        "    np.save(f, successor1_hist)\n",
        "    np.save(f, successor2_hist)\n",
        "    np.save(f, scores)\n",
        "\n",
        "from google.colab import files\n",
        "files.download('res_bald_A1.npy')\n"
      ],
      "execution_count": null,
      "outputs": [
        {
          "output_type": "stream",
          "text": [
            "Query 1: 0.5172(Model A)    |     0.5121(Model S1) - 0.5068(Model S2) \n",
            "Query 2: 0.5731(Model A)    |     0.5851(Model S1) - 0.5717(Model S2) \n",
            "Query 3: 0.5816(Model A)    |     0.5838(Model S1) - 0.5815(Model S2) \n",
            "Query 4: 0.6191(Model A)    |     0.6176(Model S1) - 0.5799(Model S2) \n",
            "Query 5: 0.6041(Model A)    |     0.6040(Model S1) - 0.5939(Model S2) \n",
            "Query 6: 0.6075(Model A)    |     0.6114(Model S1) - 0.5853(Model S2) \n",
            "Query 7: 0.6382(Model A)    |     0.6271(Model S1) - 0.5949(Model S2) \n",
            "Query 8: 0.6534(Model A)    |     0.6434(Model S1) - 0.6136(Model S2) \n",
            "Query 9: 0.6739(Model A)    |     0.6502(Model S1) - 0.6426(Model S2) \n",
            "Query 10: 0.6837(Model A)    |     0.6898(Model S1) - 0.6706(Model S2) \n",
            "Query 11: 0.6866(Model A)    |     0.6967(Model S1) - 0.6757(Model S2) \n",
            "Query 12: 0.7040(Model A)    |     0.7084(Model S1) - 0.6795(Model S2) \n",
            "Query 13: 0.7101(Model A)    |     0.7203(Model S1) - 0.6860(Model S2) \n",
            "Query 14: 0.7108(Model A)    |     0.7165(Model S1) - 0.6885(Model S2) \n",
            "Query 15: 0.7180(Model A)    |     0.7197(Model S1) - 0.6872(Model S2) \n",
            "Query 16: 0.7289(Model A)    |     0.7343(Model S1) - 0.7080(Model S2) \n",
            "Query 17: 0.7447(Model A)    |     0.7454(Model S1) - 0.7085(Model S2) \n",
            "Query 18: 0.7462(Model A)    |     0.7581(Model S1) - 0.7174(Model S2) \n",
            "Query 19: 0.7435(Model A)    |     0.7583(Model S1) - 0.7237(Model S2) \n",
            "Query 20: 0.7427(Model A)    |     0.7633(Model S1) - 0.6915(Model S2) \n"
          ],
          "name": "stdout"
        },
        {
          "output_type": "display_data",
          "data": {
            "application/javascript": [
              "\n",
              "    async function download(id, filename, size) {\n",
              "      if (!google.colab.kernel.accessAllowed) {\n",
              "        return;\n",
              "      }\n",
              "      const div = document.createElement('div');\n",
              "      const label = document.createElement('label');\n",
              "      label.textContent = `Downloading \"${filename}\": `;\n",
              "      div.appendChild(label);\n",
              "      const progress = document.createElement('progress');\n",
              "      progress.max = size;\n",
              "      div.appendChild(progress);\n",
              "      document.body.appendChild(div);\n",
              "\n",
              "      const buffers = [];\n",
              "      let downloaded = 0;\n",
              "\n",
              "      const channel = await google.colab.kernel.comms.open(id);\n",
              "      // Send a message to notify the kernel that we're ready.\n",
              "      channel.send({})\n",
              "\n",
              "      for await (const message of channel.messages) {\n",
              "        // Send a message to notify the kernel that we're ready.\n",
              "        channel.send({})\n",
              "        if (message.buffers) {\n",
              "          for (const buffer of message.buffers) {\n",
              "            buffers.push(buffer);\n",
              "            downloaded += buffer.byteLength;\n",
              "            progress.value = downloaded;\n",
              "          }\n",
              "        }\n",
              "      }\n",
              "      const blob = new Blob(buffers, {type: 'application/binary'});\n",
              "      const a = document.createElement('a');\n",
              "      a.href = window.URL.createObjectURL(blob);\n",
              "      a.download = filename;\n",
              "      div.appendChild(a);\n",
              "      a.click();\n",
              "      div.remove();\n",
              "    }\n",
              "  "
            ],
            "text/plain": [
              "<IPython.core.display.Javascript object>"
            ]
          },
          "metadata": {
            "tags": []
          }
        },
        {
          "output_type": "display_data",
          "data": {
            "application/javascript": [
              "download(\"download_bad0e43e-9c0e-4611-8df4-4703a2332968\", \"res_bald_A1.npy\", 2216)"
            ],
            "text/plain": [
              "<IPython.core.display.Javascript object>"
            ]
          },
          "metadata": {
            "tags": []
          }
        }
      ]
    },
    {
      "cell_type": "code",
      "metadata": {
        "colab": {
          "base_uri": "https://localhost:8080/",
          "height": 361
        },
        "id": "Iqc95fxHsdap",
        "outputId": "ccb9d2b0-610d-46b8-ea3d-6f7214a2f957"
      },
      "source": [
        "#iid\n",
        "acquisition_hist, successor1_hist, successor2_hist, scores, pool_idx = active_learning_procedure(\n",
        "                                                                                X_test,\n",
        "                                                                                y_test,\n",
        "                                                                                X_pool,\n",
        "                                                                                y_pool,\n",
        "                                                                                X_initial,\n",
        "                                                                                y_initial,\n",
        "                                                                                n_queries = 20,\n",
        "                                                                                n_instances = 5,\n",
        "                                                                                sample_strategy = 'iid',\n",
        "                                                                                Model_A = 1, Model_S1 = 2, Model_S2 = 3)\n",
        "with open('res_iid_A1.npy', 'wb') as f:\n",
        "    np.save(f, acquisition_hist)\n",
        "    np.save(f, successor1_hist)\n",
        "    np.save(f, successor2_hist)\n",
        "    np.save(f, scores)\n",
        "\n",
        "from google.colab import files\n",
        "files.download('res_iid_A1.npy')"
      ],
      "execution_count": null,
      "outputs": [
        {
          "output_type": "stream",
          "text": [
            "Query 1: 0.5759(Model A)    |     0.5724(Model S1) - 0.5757(Model S2) \n",
            "Query 2: 0.5941(Model A)    |     0.5986(Model S1) - 0.5411(Model S2) \n",
            "Query 3: 0.5933(Model A)    |     0.5852(Model S1) - 0.5392(Model S2) \n",
            "Query 4: 0.6112(Model A)    |     0.6185(Model S1) - 0.5790(Model S2) \n",
            "Query 5: 0.6347(Model A)    |     0.6320(Model S1) - 0.5934(Model S2) \n",
            "Query 6: 0.6363(Model A)    |     0.6505(Model S1) - 0.6355(Model S2) \n",
            "Query 7: 0.6621(Model A)    |     0.6637(Model S1) - 0.6596(Model S2) \n",
            "Query 8: 0.6904(Model A)    |     0.6953(Model S1) - 0.6853(Model S2) \n",
            "Query 9: 0.7088(Model A)    |     0.6994(Model S1) - 0.7058(Model S2) \n",
            "Query 10: 0.7192(Model A)    |     0.7223(Model S1) - 0.6946(Model S2) \n",
            "Query 11: 0.7255(Model A)    |     0.7243(Model S1) - 0.7115(Model S2) \n",
            "Query 12: 0.7210(Model A)    |     0.7279(Model S1) - 0.6974(Model S2) \n",
            "Query 13: 0.7392(Model A)    |     0.7469(Model S1) - 0.6992(Model S2) \n",
            "Query 14: 0.7507(Model A)    |     0.7410(Model S1) - 0.7249(Model S2) \n",
            "Query 15: 0.7512(Model A)    |     0.7554(Model S1) - 0.7421(Model S2) \n",
            "Query 16: 0.7535(Model A)    |     0.7720(Model S1) - 0.7432(Model S2) \n",
            "Query 17: 0.7688(Model A)    |     0.7662(Model S1) - 0.7428(Model S2) \n",
            "Query 18: 0.7693(Model A)    |     0.7725(Model S1) - 0.7529(Model S2) \n",
            "Query 19: 0.7773(Model A)    |     0.7785(Model S1) - 0.7531(Model S2) \n",
            "Query 20: 0.7829(Model A)    |     0.7816(Model S1) - 0.7758(Model S2) \n"
          ],
          "name": "stdout"
        },
        {
          "output_type": "display_data",
          "data": {
            "application/javascript": [
              "\n",
              "    async function download(id, filename, size) {\n",
              "      if (!google.colab.kernel.accessAllowed) {\n",
              "        return;\n",
              "      }\n",
              "      const div = document.createElement('div');\n",
              "      const label = document.createElement('label');\n",
              "      label.textContent = `Downloading \"${filename}\": `;\n",
              "      div.appendChild(label);\n",
              "      const progress = document.createElement('progress');\n",
              "      progress.max = size;\n",
              "      div.appendChild(progress);\n",
              "      document.body.appendChild(div);\n",
              "\n",
              "      const buffers = [];\n",
              "      let downloaded = 0;\n",
              "\n",
              "      const channel = await google.colab.kernel.comms.open(id);\n",
              "      // Send a message to notify the kernel that we're ready.\n",
              "      channel.send({})\n",
              "\n",
              "      for await (const message of channel.messages) {\n",
              "        // Send a message to notify the kernel that we're ready.\n",
              "        channel.send({})\n",
              "        if (message.buffers) {\n",
              "          for (const buffer of message.buffers) {\n",
              "            buffers.push(buffer);\n",
              "            downloaded += buffer.byteLength;\n",
              "            progress.value = downloaded;\n",
              "          }\n",
              "        }\n",
              "      }\n",
              "      const blob = new Blob(buffers, {type: 'application/binary'});\n",
              "      const a = document.createElement('a');\n",
              "      a.href = window.URL.createObjectURL(blob);\n",
              "      a.download = filename;\n",
              "      div.appendChild(a);\n",
              "      a.click();\n",
              "      div.remove();\n",
              "    }\n",
              "  "
            ],
            "text/plain": [
              "<IPython.core.display.Javascript object>"
            ]
          },
          "metadata": {
            "tags": []
          }
        },
        {
          "output_type": "display_data",
          "data": {
            "application/javascript": [
              "download(\"download_56efb1c0-238c-49a8-a86f-c85b3a00f20d\", \"res_iid_A1.npy\", 2216)"
            ],
            "text/plain": [
              "<IPython.core.display.Javascript object>"
            ]
          },
          "metadata": {
            "tags": []
          }
        }
      ]
    },
    {
      "cell_type": "code",
      "metadata": {
        "colab": {
          "base_uri": "https://localhost:8080/",
          "height": 361
        },
        "id": "4rRNshoX8I1S",
        "outputId": "a0c2d308-c110-4422-e430-f9b41260c055"
      },
      "source": [
        "# A2 BALD\n",
        "acquisition_hist, successor1_hist, successor2_hist, scores, pool_idx = active_learning_procedure(\n",
        "                                                                                X_test,\n",
        "                                                                                y_test,\n",
        "                                                                                X_pool,\n",
        "                                                                                y_pool,\n",
        "                                                                                X_initial,\n",
        "                                                                                y_initial,\n",
        "                                                                                n_queries = 20,\n",
        "                                                                                n_instances = 5,\n",
        "                                                                                Model_A = 2, Model_S1 = 1, Model_S2 = 3)\n",
        "with open('res_bald_A2.npy', 'wb') as f:\n",
        "    np.save(f, acquisition_hist)\n",
        "    np.save(f, successor1_hist)\n",
        "    np.save(f, successor2_hist)\n",
        "    np.save(f, scores)\n",
        "\n",
        "from google.colab import files\n",
        "files.download('res_bald_A2.npy')"
      ],
      "execution_count": null,
      "outputs": [
        {
          "output_type": "stream",
          "text": [
            "Query 1: 0.5159(Model A)    |     0.5268(Model S1) - 0.5239(Model S2) \n",
            "Query 2: 0.5367(Model A)    |     0.5344(Model S1) - 0.5229(Model S2) \n",
            "Query 3: 0.5546(Model A)    |     0.5660(Model S1) - 0.5598(Model S2) \n",
            "Query 4: 0.6095(Model A)    |     0.5953(Model S1) - 0.5521(Model S2) \n",
            "Query 5: 0.5972(Model A)    |     0.6007(Model S1) - 0.5827(Model S2) \n",
            "Query 6: 0.6184(Model A)    |     0.6180(Model S1) - 0.5932(Model S2) \n",
            "Query 7: 0.6376(Model A)    |     0.6351(Model S1) - 0.6146(Model S2) \n",
            "Query 8: 0.6542(Model A)    |     0.6511(Model S1) - 0.6312(Model S2) \n",
            "Query 9: 0.6442(Model A)    |     0.6503(Model S1) - 0.6330(Model S2) \n",
            "Query 10: 0.6460(Model A)    |     0.6279(Model S1) - 0.6009(Model S2) \n",
            "Query 11: 0.6558(Model A)    |     0.6443(Model S1) - 0.6517(Model S2) \n",
            "Query 12: 0.6694(Model A)    |     0.6723(Model S1) - 0.6615(Model S2) \n",
            "Query 13: 0.6647(Model A)    |     0.6740(Model S1) - 0.6592(Model S2) \n",
            "Query 14: 0.6846(Model A)    |     0.6790(Model S1) - 0.6488(Model S2) \n",
            "Query 15: 0.6994(Model A)    |     0.6918(Model S1) - 0.6828(Model S2) \n",
            "Query 16: 0.7067(Model A)    |     0.7005(Model S1) - 0.6871(Model S2) \n",
            "Query 17: 0.7170(Model A)    |     0.7205(Model S1) - 0.7058(Model S2) \n",
            "Query 18: 0.7440(Model A)    |     0.7329(Model S1) - 0.7334(Model S2) \n",
            "Query 19: 0.7437(Model A)    |     0.7283(Model S1) - 0.7332(Model S2) \n",
            "Query 20: 0.7497(Model A)    |     0.7249(Model S1) - 0.7248(Model S2) \n"
          ],
          "name": "stdout"
        },
        {
          "output_type": "display_data",
          "data": {
            "application/javascript": [
              "\n",
              "    async function download(id, filename, size) {\n",
              "      if (!google.colab.kernel.accessAllowed) {\n",
              "        return;\n",
              "      }\n",
              "      const div = document.createElement('div');\n",
              "      const label = document.createElement('label');\n",
              "      label.textContent = `Downloading \"${filename}\": `;\n",
              "      div.appendChild(label);\n",
              "      const progress = document.createElement('progress');\n",
              "      progress.max = size;\n",
              "      div.appendChild(progress);\n",
              "      document.body.appendChild(div);\n",
              "\n",
              "      const buffers = [];\n",
              "      let downloaded = 0;\n",
              "\n",
              "      const channel = await google.colab.kernel.comms.open(id);\n",
              "      // Send a message to notify the kernel that we're ready.\n",
              "      channel.send({})\n",
              "\n",
              "      for await (const message of channel.messages) {\n",
              "        // Send a message to notify the kernel that we're ready.\n",
              "        channel.send({})\n",
              "        if (message.buffers) {\n",
              "          for (const buffer of message.buffers) {\n",
              "            buffers.push(buffer);\n",
              "            downloaded += buffer.byteLength;\n",
              "            progress.value = downloaded;\n",
              "          }\n",
              "        }\n",
              "      }\n",
              "      const blob = new Blob(buffers, {type: 'application/binary'});\n",
              "      const a = document.createElement('a');\n",
              "      a.href = window.URL.createObjectURL(blob);\n",
              "      a.download = filename;\n",
              "      div.appendChild(a);\n",
              "      a.click();\n",
              "      div.remove();\n",
              "    }\n",
              "  "
            ],
            "text/plain": [
              "<IPython.core.display.Javascript object>"
            ]
          },
          "metadata": {
            "tags": []
          }
        },
        {
          "output_type": "display_data",
          "data": {
            "application/javascript": [
              "download(\"download_a675db26-578e-476f-bb10-7d07563456ed\", \"res_bald_A2.npy\", 2216)"
            ],
            "text/plain": [
              "<IPython.core.display.Javascript object>"
            ]
          },
          "metadata": {
            "tags": []
          }
        }
      ]
    },
    {
      "cell_type": "code",
      "metadata": {
        "colab": {
          "base_uri": "https://localhost:8080/",
          "height": 361
        },
        "id": "el4pBQvofl5i",
        "outputId": "13faae79-505f-492d-bf10-c4de076e221b"
      },
      "source": [
        "# A3 BALD\n",
        "acquisition_hist, successor1_hist, successor2_hist, scores, pool_idx = active_learning_procedure(\n",
        "                                                                                X_test,\n",
        "                                                                                y_test,\n",
        "                                                                                X_pool,\n",
        "                                                                                y_pool,\n",
        "                                                                                X_initial,\n",
        "                                                                                y_initial,\n",
        "                                                                                n_queries = 20,\n",
        "                                                                                n_instances = 5,\n",
        "                                                                                Model_A = 3, Model_S1 = 2, Model_S2 = 1)\n",
        "with open('res_bald_A3.npy', 'wb') as f:\n",
        "    np.save(f, acquisition_hist)\n",
        "    np.save(f, successor1_hist)\n",
        "    np.save(f, successor2_hist)\n",
        "    np.save(f, scores)\n",
        "\n",
        "from google.colab import files\n",
        "files.download('res_bald_A3.npy')"
      ],
      "execution_count": null,
      "outputs": [
        {
          "output_type": "stream",
          "text": [
            "Query 1: 0.5202(Model A)    |     0.5241(Model S1) - 0.5100(Model S2) \n",
            "Query 2: 0.5409(Model A)    |     0.5477(Model S1) - 0.5385(Model S2) \n",
            "Query 3: 0.5403(Model A)    |     0.5781(Model S1) - 0.5667(Model S2) \n",
            "Query 4: 0.5873(Model A)    |     0.5936(Model S1) - 0.5902(Model S2) \n",
            "Query 5: 0.6156(Model A)    |     0.6094(Model S1) - 0.5887(Model S2) \n",
            "Query 6: 0.6261(Model A)    |     0.6194(Model S1) - 0.6095(Model S2) \n",
            "Query 7: 0.6578(Model A)    |     0.6520(Model S1) - 0.6437(Model S2) \n",
            "Query 8: 0.6525(Model A)    |     0.6841(Model S1) - 0.6843(Model S2) \n",
            "Query 9: 0.6625(Model A)    |     0.6834(Model S1) - 0.6649(Model S2) \n",
            "Query 10: 0.6777(Model A)    |     0.6878(Model S1) - 0.6720(Model S2) \n",
            "Query 11: 0.6844(Model A)    |     0.6850(Model S1) - 0.6745(Model S2) \n",
            "Query 12: 0.6821(Model A)    |     0.6986(Model S1) - 0.6816(Model S2) \n",
            "Query 13: 0.6837(Model A)    |     0.7114(Model S1) - 0.7054(Model S2) \n",
            "Query 14: 0.7137(Model A)    |     0.7225(Model S1) - 0.7208(Model S2) \n",
            "Query 15: 0.7053(Model A)    |     0.7323(Model S1) - 0.7206(Model S2) \n",
            "Query 16: 0.7133(Model A)    |     0.7296(Model S1) - 0.7217(Model S2) \n",
            "Query 17: 0.7277(Model A)    |     0.7297(Model S1) - 0.7169(Model S2) \n",
            "Query 18: 0.7439(Model A)    |     0.7274(Model S1) - 0.7167(Model S2) \n",
            "Query 19: 0.7425(Model A)    |     0.7143(Model S1) - 0.7143(Model S2) \n",
            "Query 20: 0.7177(Model A)    |     0.7267(Model S1) - 0.7217(Model S2) \n"
          ],
          "name": "stdout"
        },
        {
          "output_type": "display_data",
          "data": {
            "application/javascript": [
              "\n",
              "    async function download(id, filename, size) {\n",
              "      if (!google.colab.kernel.accessAllowed) {\n",
              "        return;\n",
              "      }\n",
              "      const div = document.createElement('div');\n",
              "      const label = document.createElement('label');\n",
              "      label.textContent = `Downloading \"${filename}\": `;\n",
              "      div.appendChild(label);\n",
              "      const progress = document.createElement('progress');\n",
              "      progress.max = size;\n",
              "      div.appendChild(progress);\n",
              "      document.body.appendChild(div);\n",
              "\n",
              "      const buffers = [];\n",
              "      let downloaded = 0;\n",
              "\n",
              "      const channel = await google.colab.kernel.comms.open(id);\n",
              "      // Send a message to notify the kernel that we're ready.\n",
              "      channel.send({})\n",
              "\n",
              "      for await (const message of channel.messages) {\n",
              "        // Send a message to notify the kernel that we're ready.\n",
              "        channel.send({})\n",
              "        if (message.buffers) {\n",
              "          for (const buffer of message.buffers) {\n",
              "            buffers.push(buffer);\n",
              "            downloaded += buffer.byteLength;\n",
              "            progress.value = downloaded;\n",
              "          }\n",
              "        }\n",
              "      }\n",
              "      const blob = new Blob(buffers, {type: 'application/binary'});\n",
              "      const a = document.createElement('a');\n",
              "      a.href = window.URL.createObjectURL(blob);\n",
              "      a.download = filename;\n",
              "      div.appendChild(a);\n",
              "      a.click();\n",
              "      div.remove();\n",
              "    }\n",
              "  "
            ],
            "text/plain": [
              "<IPython.core.display.Javascript object>"
            ]
          },
          "metadata": {
            "tags": []
          }
        },
        {
          "output_type": "display_data",
          "data": {
            "application/javascript": [
              "download(\"download_1738212a-48d8-463d-b39c-2c1aefbeca12\", \"res_bald_A3.npy\", 2216)"
            ],
            "text/plain": [
              "<IPython.core.display.Javascript object>"
            ]
          },
          "metadata": {
            "tags": []
          }
        }
      ]
    },
    {
      "cell_type": "code",
      "metadata": {
        "colab": {
          "base_uri": "https://localhost:8080/"
        },
        "id": "uu0J9rDkt4GA",
        "outputId": "6565fe5e-18ed-4121-9497-fc893d151b0f"
      },
      "source": [
        "# check stopping creterion for bald:\n",
        "train_x = X_initial\n",
        "train_y = y_initial\n",
        "\n",
        "for query_idx in pool_idx[:2]:\n",
        "  train_x = np.vstack((train_x, X_pool[query_idx]))\n",
        "  train_y = np.hstack((train_y, y_pool[query_idx]))\n",
        "\n",
        "  X_pool = np.delete(X_pool, query_idx, axis=0)\n",
        "  y_pool = np.delete(y_pool, query_idx, axis=0)\n",
        "\n",
        "  valid_idx = np.random.randint(0, len(y_pool), 1000)\n",
        "  x_valid = X_pool[valid_idx]\n",
        "  y_valid = y_pool[valid_idx]\n",
        "\n",
        "  m = Model1(784, 10, data_num = len(train_x)).to(device)\n",
        "  optim = torch.optim.Adam(m.parameters(), lr=0.001)\n",
        "  train_ls, valid_ls = train(m, optim, 1000, \n",
        "                              train_x, train_y, \n",
        "                              x_valid, y_valid,\n",
        "                              verbose = False)\n",
        "  y_sample = np.stack([torch.exp(m(X_test.to(device))).detach().cpu().numpy() for t in range(100)])\n",
        "  y_pred = y_sample.mean(axis = 0).argmax(axis = 1)\n",
        "  acc = np.equal(y_pred, y_test).sum().item()/len(y_test)\n",
        "  print('data size {}:  acc {}'.format(len(train_x), acc))"
      ],
      "execution_count": null,
      "outputs": [
        {
          "output_type": "stream",
          "text": [
            "data size 15:  acc 0.4555\n",
            "data size 20:  acc 0.4485\n"
          ],
          "name": "stdout"
        }
      ]
    },
    {
      "cell_type": "code",
      "metadata": {
        "colab": {
          "base_uri": "https://localhost:8080/"
        },
        "id": "BgFcLzUIKCjX",
        "outputId": "89f73031-6701-4838-d8fb-ef5fa5f5f000"
      },
      "source": [
        "pool_idx[:8]"
      ],
      "execution_count": null,
      "outputs": [
        {
          "output_type": "execute_result",
          "data": {
            "text/plain": [
              "[array([13049]),\n",
              " array([8483]),\n",
              " array([31070]),\n",
              " array([52071]),\n",
              " array([19800]),\n",
              " array([19032]),\n",
              " array([50050]),\n",
              " array([4796])]"
            ]
          },
          "metadata": {
            "tags": []
          },
          "execution_count": 142
        }
      ]
    },
    {
      "cell_type": "code",
      "metadata": {
        "id": "Add_aU6Nt-3W"
      },
      "source": [
        ""
      ],
      "execution_count": null,
      "outputs": []
    },
    {
      "cell_type": "code",
      "metadata": {
        "colab": {
          "base_uri": "https://localhost:8080/",
          "height": 17
        },
        "id": "jMfsQzWzWZ9J",
        "outputId": "70469adc-8110-47e9-b715-07f0573a94b7"
      },
      "source": [
        "with open('res_bald_A1.npy', 'wb') as f:\n",
        "    np.save(f, acquisition_hist)\n",
        "    np.save(f, successor1_hist)\n",
        "    np.save(f, successor2_hist)\n",
        "    np.save(f, scores)\n",
        "\n",
        "from google.colab import files\n",
        "files.download('res_bald_A1.npy') "
      ],
      "execution_count": null,
      "outputs": [
        {
          "output_type": "display_data",
          "data": {
            "application/javascript": [
              "\n",
              "    async function download(id, filename, size) {\n",
              "      if (!google.colab.kernel.accessAllowed) {\n",
              "        return;\n",
              "      }\n",
              "      const div = document.createElement('div');\n",
              "      const label = document.createElement('label');\n",
              "      label.textContent = `Downloading \"${filename}\": `;\n",
              "      div.appendChild(label);\n",
              "      const progress = document.createElement('progress');\n",
              "      progress.max = size;\n",
              "      div.appendChild(progress);\n",
              "      document.body.appendChild(div);\n",
              "\n",
              "      const buffers = [];\n",
              "      let downloaded = 0;\n",
              "\n",
              "      const channel = await google.colab.kernel.comms.open(id);\n",
              "      // Send a message to notify the kernel that we're ready.\n",
              "      channel.send({})\n",
              "\n",
              "      for await (const message of channel.messages) {\n",
              "        // Send a message to notify the kernel that we're ready.\n",
              "        channel.send({})\n",
              "        if (message.buffers) {\n",
              "          for (const buffer of message.buffers) {\n",
              "            buffers.push(buffer);\n",
              "            downloaded += buffer.byteLength;\n",
              "            progress.value = downloaded;\n",
              "          }\n",
              "        }\n",
              "      }\n",
              "      const blob = new Blob(buffers, {type: 'application/binary'});\n",
              "      const a = document.createElement('a');\n",
              "      a.href = window.URL.createObjectURL(blob);\n",
              "      a.download = filename;\n",
              "      div.appendChild(a);\n",
              "      a.click();\n",
              "      div.remove();\n",
              "    }\n",
              "  "
            ],
            "text/plain": [
              "<IPython.core.display.Javascript object>"
            ]
          },
          "metadata": {
            "tags": []
          }
        },
        {
          "output_type": "display_data",
          "data": {
            "application/javascript": [
              "download(\"download_73275748-d5f0-4018-93cc-20378f1fb519\", \"res_bald_A1.npy\", 4136)"
            ],
            "text/plain": [
              "<IPython.core.display.Javascript object>"
            ]
          },
          "metadata": {
            "tags": []
          }
        }
      ]
    },
    {
      "cell_type": "code",
      "metadata": {
        "id": "LJKBld1lWZ9J"
      },
      "source": [
        "with open('res_bald_A1.npy', 'rb') as f:\n",
        "    acquisition_hist = np.load(f)\n",
        "    successor1_hist = np.load(f)\n",
        "    successor2_hist = np.load(f)\n",
        "    scores = np.load(f)"
      ],
      "execution_count": null,
      "outputs": []
    },
    {
      "cell_type": "code",
      "metadata": {
        "id": "aGFqwARmm-EQ"
      },
      "source": [
        "y_pred = m(X_test.to(device))"
      ],
      "execution_count": null,
      "outputs": []
    },
    {
      "cell_type": "code",
      "metadata": {
        "id": "Ko5EHYjjkzWg"
      },
      "source": [
        "a = F.nll_loss(y_pred, y_test.to(device), reduction='none')"
      ],
      "execution_count": null,
      "outputs": []
    },
    {
      "cell_type": "code",
      "metadata": {
        "colab": {
          "base_uri": "https://localhost:8080/"
        },
        "id": "-w3q6g36nFHd",
        "outputId": "6c33e728-0ba9-4807-9209-dcac6fbeee42"
      },
      "source": [
        "F.nll_loss(y_pred, y_test.to(device))"
      ],
      "execution_count": null,
      "outputs": [
        {
          "output_type": "execute_result",
          "data": {
            "text/plain": [
              "tensor(2.1675, device='cuda:0', grad_fn=<NllLossBackward>)"
            ]
          },
          "metadata": {
            "tags": []
          },
          "execution_count": 29
        }
      ]
    },
    {
      "cell_type": "code",
      "metadata": {
        "colab": {
          "base_uri": "https://localhost:8080/"
        },
        "id": "uEblOSnTnEpj",
        "outputId": "a69249a4-96de-4507-8fed-9cbb4d97112a"
      },
      "source": [
        "a.mean()"
      ],
      "execution_count": null,
      "outputs": [
        {
          "output_type": "execute_result",
          "data": {
            "text/plain": [
              "tensor(2.1675, device='cuda:0', grad_fn=<MeanBackward0>)"
            ]
          },
          "metadata": {
            "tags": []
          },
          "execution_count": 32
        }
      ]
    },
    {
      "cell_type": "code",
      "metadata": {
        "colab": {
          "base_uri": "https://localhost:8080/"
        },
        "id": "HvQFcbe3l9R-",
        "outputId": "61c49eee-6754-4969-805f-d9ffa421f4a0"
      },
      "source": [
        "y_test"
      ],
      "execution_count": null,
      "outputs": [
        {
          "output_type": "execute_result",
          "data": {
            "text/plain": [
              "tensor([6, 7, 7,  ..., 1, 5, 5])"
            ]
          },
          "metadata": {
            "tags": []
          },
          "execution_count": 20
        }
      ]
    }
  ]
}